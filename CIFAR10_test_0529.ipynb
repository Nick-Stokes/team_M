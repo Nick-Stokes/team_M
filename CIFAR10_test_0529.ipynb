{
  "cells": [
    {
      "cell_type": "markdown",
      "source": [
        "# ***Final Project***\n",
        "---\n",
        "\n",
        "In this project, you will develop a convolutional neural network (CNN) to perform classification, and test it out on the CIFAR-10 dataset.\n",
        "\n",
        "\n",
        "The given code is a simple implement for the CIFAR-10 classification.\n",
        "\n",
        "The goal of the final project is to check whether you understand important concepts for training CNN such as:\n",
        "\n",
        "*   Network architecture\n",
        "*   Optimization\n",
        "*   Loss function\n",
        "*   Data preprocessing\n",
        "*   Regularization\n",
        "*   ...\n",
        "\n",
        "Therefore, you can **modify the given code to improve the performance** of the network **except for the dataset (i.e. trainset and testset)**.\n",
        "\n",
        "You should **upload your code and your report** including an explaination of your code and what you have changed or added."
      ],
      "metadata": {
        "id": "8H2mplXJU1d6"
      }
    },
    {
      "cell_type": "code",
      "execution_count": null,
      "metadata": {
        "id": "Fr9zgCgCmdNq"
      },
      "outputs": [],
      "source": [
        "# AS usual, a bit of setup\n",
        "# If you need other libraries, you should import the libraries.\n",
        "\n",
        "import os, sys\n",
        "import torch\n",
        "from torch import nn\n",
        "from torch.nn import functional as F\n",
        "\n",
        "import torchvision\n",
        "import torchvision.transforms as transforms\n",
        "import torchvision.datasets as datasets\n",
        "\n",
        "import matplotlib.pyplot as plt\n",
        "import numpy as np"
      ]
    },
    {
      "cell_type": "code",
      "execution_count": null,
      "metadata": {
        "colab": {
          "base_uri": "https://localhost:8080/"
        },
        "id": "V9pg5nB1pXEO",
        "outputId": "f11e5bdc-bd64-4f62-a5e8-2d6019ac4a12"
      },
      "outputs": [
        {
          "output_type": "stream",
          "name": "stdout",
          "text": [
            "cuda\n"
          ]
        }
      ],
      "source": [
        "# Set the device\n",
        "device = 'cuda' if torch.cuda.is_available() else 'cpu'\n",
        "print(device)"
      ]
    },
    {
      "cell_type": "markdown",
      "source": [
        "# **Data Loader**\n",
        "\n",
        "You can load the CIFAR-10 dataset using the library `torchvision.datasets`\n",
        "\n",
        "The details of CIFAR-10 dataset can be found in https://www.cs.toronto.edu/~kriz/cifar.html\n",
        "\n",
        "`transforms_cifar10` is used to assemble several transforms for data preprossing."
      ],
      "metadata": {
        "id": "q-G1AJVsbqwc"
      }
    },
    {
      "cell_type": "code",
      "execution_count": null,
      "metadata": {
        "colab": {
          "base_uri": "https://localhost:8080/"
        },
        "id": "HOEFPBpcmmHU",
        "outputId": "5975c860-9e81-42e5-afec-d47904de3b81"
      },
      "outputs": [
        {
          "output_type": "stream",
          "name": "stdout",
          "text": [
            "Downloading https://www.cs.toronto.edu/~kriz/cifar-10-python.tar.gz to ./data/cifar-10-python.tar.gz\n"
          ]
        },
        {
          "output_type": "stream",
          "name": "stderr",
          "text": [
            "100%|██████████| 170498071/170498071 [00:01<00:00, 96214904.47it/s]\n"
          ]
        },
        {
          "output_type": "stream",
          "name": "stdout",
          "text": [
            "Extracting ./data/cifar-10-python.tar.gz to ./data\n",
            "Files already downloaded and verified\n",
            "Files already downloaded and verified\n"
          ]
        }
      ],
      "source": [
        "import torch\n",
        "import torchvision.transforms as transforms\n",
        "import torchvision.datasets as datasets\n",
        "\n",
        "# Data augmentation and normalization for CIFAR-10\n",
        "transform_train = transforms.Compose([\n",
        "    transforms.RandomCrop(32, padding=4),  # Random crop with padding\n",
        "    transforms.RandomHorizontalFlip(),  # Random horizontal flip\n",
        "    transforms.ColorJitter(brightness=0.2, contrast=0.2, saturation=0.2, hue=0.2),  # Color jitter\n",
        "    transforms.ToTensor(),\n",
        "    transforms.Normalize((0.5, 0.5, 0.5), (0.5, 0.5, 0.5))\n",
        "])\n",
        "\n",
        "transform_test = transforms.Compose([\n",
        "    transforms.Resize((32, 32)),  # Fixed size\n",
        "    transforms.ToTensor(),\n",
        "    transforms.Normalize((0.5, 0.5, 0.5), (0.5, 0.5, 0.5))\n",
        "])\n",
        "\n",
        "# Train dataset with augmentation\n",
        "trainset = datasets.CIFAR10(root='./data', train=True, download=True, transform=transform_train)\n",
        "\n",
        "# Split trainset into training and validation sets\n",
        "train_size = int(0.8 * len(trainset))\n",
        "val_size = len(trainset) - train_size\n",
        "train_subset, val_subset = torch.utils.data.random_split(trainset, [train_size, val_size])\n",
        "\n",
        "# Validation dataset (using test transformations)\n",
        "valset = datasets.CIFAR10(root='./data', train=True, download=True, transform=transform_test)\n",
        "val_subset.dataset = valset  # Update transform for validation subset\n",
        "\n",
        "# DataLoaders\n",
        "trainloader = torch.utils.data.DataLoader(train_subset, batch_size=4, shuffle=True, num_workers=2)\n",
        "valloader = torch.utils.data.DataLoader(val_subset, batch_size=4, shuffle=False, num_workers=2)\n",
        "\n",
        "# Test dataset\n",
        "testset = datasets.CIFAR10(root='./data', train=False, download=True, transform=transform_test)\n",
        "testloader = torch.utils.data.DataLoader(testset, batch_size=4, shuffle=False, num_workers=2)\n",
        "\n",
        "# Classes of CIFAR-10 dataset\n",
        "classes = (\"plane\", \"car\", \"bird\", \"cat\", \"deer\", \"dog\", \"frog\", \"horse\", \"ship\", \"truck\")\n"
      ]
    },
    {
      "cell_type": "code",
      "execution_count": null,
      "metadata": {
        "colab": {
          "base_uri": "https://localhost:8080/",
          "height": 211
        },
        "id": "d7JdtMAzoCac",
        "outputId": "a545ce4e-b886-4877-8cf2-b3dd27b62189"
      },
      "outputs": [
        {
          "output_type": "stream",
          "name": "stdout",
          "text": [
            " deer  deer  frog horse\n"
          ]
        },
        {
          "output_type": "display_data",
          "data": {
            "text/plain": [
              "<Figure size 640x480 with 1 Axes>"
            ],
            "image/png": "[encoded data removed]"
          },
          "metadata": {}
        }
      ],
      "source": [
        "# Examples of dataset\n",
        "\n",
        "def imshow(img):\n",
        "  img = img /2 + 0.5\n",
        "\n",
        "  npimg = img.numpy()\n",
        "  plt.imshow(np.transpose(npimg, (1, 2, 0)))\n",
        "\n",
        "dataiter = iter(trainloader)\n",
        "imgs, labels = next(dataiter)\n",
        "\n",
        "imshow(torchvision.utils.make_grid(imgs))\n",
        "print(' '.join('%5s' % classes[labels[j]] for j in range(4)))\n"
      ]
    },
    {
      "cell_type": "markdown",
      "source": [
        "# **Your own CNN**\n",
        "\n",
        "You can implement your own network using libraries such as `torch.nn`and `torch.nn.functional`.\n",
        "\n",
        "`SimpleNet` and `VGG11` are examples to help your understand the implementation of the network.\n",
        "\n",
        "So, you can modify the given codes or create another awesome neural network for CIFAR-10 classification."
      ],
      "metadata": {
        "id": "Y77itjthc5Xh"
      }
    },
    {
      "cell_type": "code",
      "execution_count": null,
      "metadata": {
        "id": "068wqyqdo_fc"
      },
      "outputs": [],
      "source": [
        "# Model\n",
        "\n",
        "class SimpleNet(nn.Module):\n",
        "    def __init__(self):\n",
        "        super(SimpleNet, self).__init__()\n",
        "        self.conv1 = nn.Conv2d(3, 6, 5) #(input channel, output channel, kernel_size, stride, padding)\n",
        "        self.pool = nn.MaxPool2d(2, 2)\n",
        "        self.conv2 = nn.Conv2d(6, 16, 5)\n",
        "        self.fc1 = nn.Linear(16 * 5 * 5, 120)\n",
        "        self.fc2 = nn.Linear(120, 84)\n",
        "        self.fc3 = nn.Linear(84, 10) #마지막은 무조건 10으로 끝나게 해야 함.\n",
        "\n",
        "    def forward(self, x):\n",
        "      # CNN layer이다.\n",
        "        x = self.pool(F.relu(self.conv1(x)))\n",
        "        x = self.pool(F.relu(self.conv2(x)))\n",
        "\n",
        "        # FCN layer이다.\n",
        "        x = x.view(-1, 16 * 5 * 5)\n",
        "        x = F.relu(self.fc1(x))\n",
        "        x = F.relu(self.fc2(x))\n",
        "        x = self.fc3(x)\n",
        "        return x\n",
        "\n",
        "\n",
        "net = SimpleNet().to(device)"
      ]
    },
    {
      "cell_type": "code",
      "source": [
        "!pip install torchsummary\n",
        "from torchsummary import summary\n",
        "\n",
        "summary(net, (3, 32, 32))"
      ],
      "metadata": {
        "colab": {
          "base_uri": "https://localhost:8080/"
        },
        "id": "QjHRVmAYDEmE",
        "outputId": "853c82be-b6f3-4422-86b8-b7ec3d1f6555"
      },
      "execution_count": null,
      "outputs": [
        {
          "output_type": "stream",
          "name": "stdout",
          "text": [
            "Requirement already satisfied: torchsummary in /usr/local/lib/python3.10/dist-packages (1.5.1)\n",
            "----------------------------------------------------------------\n",
            "        Layer (type)               Output Shape         Param #\n",
            "================================================================\n",
            "            Conv2d-1            [-1, 6, 28, 28]             456\n",
            "         MaxPool2d-2            [-1, 6, 14, 14]               0\n",
            "            Conv2d-3           [-1, 16, 10, 10]           2,416\n",
            "         MaxPool2d-4             [-1, 16, 5, 5]               0\n",
            "            Linear-5                  [-1, 120]          48,120\n",
            "            Linear-6                   [-1, 84]          10,164\n",
            "            Linear-7                   [-1, 10]             850\n",
            "================================================================\n",
            "Total params: 62,006\n",
            "Trainable params: 62,006\n",
            "Non-trainable params: 0\n",
            "----------------------------------------------------------------\n",
            "Input size (MB): 0.01\n",
            "Forward/backward pass size (MB): 0.06\n",
            "Params size (MB): 0.24\n",
            "Estimated Total Size (MB): 0.31\n",
            "----------------------------------------------------------------\n"
          ]
        }
      ]
    },
    {
      "cell_type": "markdown",
      "source": [
        "# **Loss function and optimizer**\n",
        "\n",
        "Set the **loss function and optimizer** for training CNN.\n",
        "You can modify the loss function or optimizer for better performance."
      ],
      "metadata": {
        "id": "SXLnGlLgdyZ2"
      }
    },
    {
      "cell_type": "code",
      "execution_count": null,
      "metadata": {
        "id": "oB0f6C2npeoj"
      },
      "outputs": [],
      "source": [
        "# Loss function and optimizer\n",
        "criterion = nn.CrossEntropyLoss()\n",
        "optimizer = torch.optim.Adam(net.parameters(), lr=0.001)\n",
        "scheduler = torch.optim.lr_scheduler.StepLR(optimizer, step_size=10, gamma=0.1) # Learning rate scheduling하는 거임. 이건 걍 step에 따라..."
      ]
    },
    {
      "cell_type": "markdown",
      "source": [
        "# **Train the network**\n",
        "\n",
        "Train your own network using the above loss function and optimizer."
      ],
      "metadata": {
        "id": "DInMRCnReWno"
      }
    },
    {
      "cell_type": "code",
      "execution_count": null,
      "metadata": {
        "colab": {
          "base_uri": "https://localhost:8080/"
        },
        "id": "2vvD0eNCpqxj",
        "outputId": "34b41e0e-1f7e-4374-e8ea-0977ce40db0a"
      },
      "outputs": [
        {
          "output_type": "stream",
          "name": "stdout",
          "text": [
            "[Epoch - 1, Iteration -  5000] Loss: 1.905\n",
            "[Epoch - 1, Iteration - 10000] Loss: 0.839\n",
            "[Epoch - 1] Train Loss: 1.791, Val Loss: 1.532\n",
            "[Epoch - 2, Iteration -  5000] Loss: 1.585\n",
            "[Epoch - 2, Iteration - 10000] Loss: 0.768\n",
            "[Epoch - 2] Train Loss: 1.561, Val Loss: 1.347\n",
            "[Epoch - 3, Iteration -  5000] Loss: 1.491\n",
            "[Epoch - 3, Iteration - 10000] Loss: 0.727\n",
            "[Epoch - 3] Train Loss: 1.473, Val Loss: 1.279\n",
            "[Epoch - 4, Iteration -  5000] Loss: 1.421\n",
            "[Epoch - 4, Iteration - 10000] Loss: 0.700\n",
            "[Epoch - 4] Train Loss: 1.410, Val Loss: 1.256\n",
            "[Epoch - 5, Iteration -  5000] Loss: 1.380\n",
            "[Epoch - 5, Iteration - 10000] Loss: 0.689\n",
            "[Epoch - 5] Train Loss: 1.379, Val Loss: 1.269\n",
            "[Epoch - 6, Iteration -  5000] Loss: 1.370\n",
            "[Epoch - 6, Iteration - 10000] Loss: 0.671\n",
            "[Epoch - 6] Train Loss: 1.356, Val Loss: 1.300\n",
            "[Epoch - 7, Iteration -  5000] Loss: 1.345\n",
            "[Epoch - 7, Iteration - 10000] Loss: 0.666\n",
            "[Epoch - 7] Train Loss: 1.339, Val Loss: 1.194\n",
            "[Epoch - 8, Iteration -  5000] Loss: 1.323\n",
            "[Epoch - 8, Iteration - 10000] Loss: 0.661\n",
            "[Epoch - 8] Train Loss: 1.323, Val Loss: 1.248\n",
            "[Epoch - 9, Iteration -  5000] Loss: 1.294\n",
            "[Epoch - 9, Iteration - 10000] Loss: 0.657\n",
            "[Epoch - 9] Train Loss: 1.304, Val Loss: 1.229\n",
            "[Epoch - 10, Iteration -  5000] Loss: 1.294\n",
            "[Epoch - 10, Iteration - 10000] Loss: 0.649\n",
            "[Epoch - 10] Train Loss: 1.296, Val Loss: 1.162\n",
            "[Epoch - 11, Iteration -  5000] Loss: 1.199\n",
            "[Epoch - 11, Iteration - 10000] Loss: 0.587\n",
            "[Epoch - 11] Train Loss: 1.186, Val Loss: 1.070\n",
            "[Epoch - 12, Iteration -  5000] Loss: 1.160\n",
            "[Epoch - 12, Iteration - 10000] Loss: 0.576\n",
            "[Epoch - 12] Train Loss: 1.155, Val Loss: 1.065\n",
            "[Epoch - 13, Iteration -  5000] Loss: 1.146\n",
            "[Epoch - 13, Iteration - 10000] Loss: 0.572\n",
            "[Epoch - 13] Train Loss: 1.146, Val Loss: 1.059\n",
            "[Epoch - 14, Iteration -  5000] Loss: 1.139\n",
            "[Epoch - 14, Iteration - 10000] Loss: 0.579\n",
            "[Epoch - 14] Train Loss: 1.149, Val Loss: 1.043\n",
            "[Epoch - 15, Iteration -  5000] Loss: 1.134\n",
            "[Epoch - 15, Iteration - 10000] Loss: 0.571\n",
            "[Epoch - 15] Train Loss: 1.138, Val Loss: 1.038\n",
            "[Epoch - 16, Iteration -  5000] Loss: 1.114\n",
            "[Epoch - 16, Iteration - 10000] Loss: 0.566\n",
            "[Epoch - 16] Train Loss: 1.123, Val Loss: 1.033\n",
            "[Epoch - 17, Iteration -  5000] Loss: 1.121\n",
            "[Epoch - 17, Iteration - 10000] Loss: 0.568\n",
            "[Epoch - 17] Train Loss: 1.128, Val Loss: 1.034\n",
            "[Epoch - 18, Iteration -  5000] Loss: 1.113\n",
            "[Epoch - 18, Iteration - 10000] Loss: 0.560\n",
            "[Epoch - 18] Train Loss: 1.116, Val Loss: 1.024\n",
            "[Epoch - 19, Iteration -  5000] Loss: 1.118\n",
            "[Epoch - 19, Iteration - 10000] Loss: 0.557\n",
            "[Epoch - 19] Train Loss: 1.116, Val Loss: 1.023\n",
            "[Epoch - 20, Iteration -  5000] Loss: 1.111\n",
            "[Epoch - 20, Iteration - 10000] Loss: 0.557\n",
            "[Epoch - 20] Train Loss: 1.112, Val Loss: 1.017\n",
            "[Epoch - 21, Iteration -  5000] Loss: 1.109\n",
            "[Epoch - 21, Iteration - 10000] Loss: 0.544\n",
            "[Epoch - 21] Train Loss: 1.099, Val Loss: 1.009\n",
            "[Epoch - 22, Iteration -  5000] Loss: 1.093\n",
            "[Epoch - 22, Iteration - 10000] Loss: 0.552\n",
            "[Epoch - 22] Train Loss: 1.098, Val Loss: 1.005\n",
            "[Epoch - 23, Iteration -  5000] Loss: 1.093\n",
            "[Epoch - 23, Iteration - 10000] Loss: 0.547\n",
            "[Epoch - 23] Train Loss: 1.094, Val Loss: 1.005\n",
            "[Epoch - 24, Iteration -  5000] Loss: 1.082\n",
            "[Epoch - 24, Iteration - 10000] Loss: 0.547\n",
            "[Epoch - 24] Train Loss: 1.088, Val Loss: 1.005\n",
            "[Epoch - 25, Iteration -  5000] Loss: 1.101\n",
            "[Epoch - 25, Iteration - 10000] Loss: 0.539\n",
            "[Epoch - 25] Train Loss: 1.090, Val Loss: 1.004\n",
            "[Epoch - 26, Iteration -  5000] Loss: 1.089\n",
            "[Epoch - 26, Iteration - 10000] Loss: 0.552\n",
            "[Epoch - 26] Train Loss: 1.096, Val Loss: 1.003\n",
            "[Epoch - 27, Iteration -  5000] Loss: 1.090\n",
            "[Epoch - 27, Iteration - 10000] Loss: 0.549\n",
            "[Epoch - 27] Train Loss: 1.094, Val Loss: 1.004\n",
            "[Epoch - 28, Iteration -  5000] Loss: 1.092\n",
            "[Epoch - 28, Iteration - 10000] Loss: 0.547\n",
            "[Epoch - 28] Train Loss: 1.093, Val Loss: 1.004\n",
            "[Epoch - 29, Iteration -  5000] Loss: 1.087\n",
            "[Epoch - 29, Iteration - 10000] Loss: 0.547\n",
            "[Epoch - 29] Train Loss: 1.091, Val Loss: 1.005\n",
            "[Epoch - 30, Iteration -  5000] Loss: 1.076\n",
            "[Epoch - 30, Iteration - 10000] Loss: 0.546\n",
            "[Epoch - 30] Train Loss: 1.084, Val Loss: 1.002\n",
            "[Epoch - 31, Iteration -  5000] Loss: 1.090\n",
            "[Epoch - 31, Iteration - 10000] Loss: 0.541\n",
            "[Epoch - 31] Train Loss: 1.086, Val Loss: 1.002\n",
            "[Epoch - 32, Iteration -  5000] Loss: 1.077\n",
            "[Epoch - 32, Iteration - 10000] Loss: 0.548\n",
            "[Epoch - 32] Train Loss: 1.086, Val Loss: 1.002\n",
            "[Epoch - 33, Iteration -  5000] Loss: 1.092\n",
            "[Epoch - 33, Iteration - 10000] Loss: 0.547\n",
            "[Epoch - 33] Train Loss: 1.093, Val Loss: 1.002\n",
            "[Epoch - 34, Iteration -  5000] Loss: 1.090\n",
            "[Epoch - 34, Iteration - 10000] Loss: 0.544\n",
            "[Epoch - 34] Train Loss: 1.089, Val Loss: 1.002\n",
            "[Epoch - 35, Iteration -  5000] Loss: 1.093\n",
            "[Epoch - 35, Iteration - 10000] Loss: 0.538\n",
            "[Epoch - 35] Train Loss: 1.085, Val Loss: 1.002\n",
            "[Epoch - 36, Iteration -  5000] Loss: 1.091\n",
            "[Epoch - 36, Iteration - 10000] Loss: 0.545\n",
            "[Epoch - 36] Train Loss: 1.090, Val Loss: 1.001\n",
            "[Epoch - 37, Iteration -  5000] Loss: 1.079\n",
            "[Epoch - 37, Iteration - 10000] Loss: 0.545\n",
            "[Epoch - 37] Train Loss: 1.084, Val Loss: 1.001\n",
            "[Epoch - 38, Iteration -  5000] Loss: 1.079\n",
            "[Epoch - 38, Iteration - 10000] Loss: 0.542\n",
            "[Epoch - 38] Train Loss: 1.082, Val Loss: 1.001\n",
            "[Epoch - 39, Iteration -  5000] Loss: 1.093\n",
            "[Epoch - 39, Iteration - 10000] Loss: 0.546\n",
            "[Epoch - 39] Train Loss: 1.092, Val Loss: 1.001\n",
            "[Epoch - 40, Iteration -  5000] Loss: 1.072\n",
            "[Epoch - 40, Iteration - 10000] Loss: 0.550\n",
            "[Epoch - 40] Train Loss: 1.086, Val Loss: 1.001\n",
            "[Epoch - 41, Iteration -  5000] Loss: 1.084\n",
            "[Epoch - 41, Iteration - 10000] Loss: 0.541\n",
            "[Epoch - 41] Train Loss: 1.084, Val Loss: 1.001\n",
            "[Epoch - 42, Iteration -  5000] Loss: 1.085\n",
            "[Epoch - 42, Iteration - 10000] Loss: 0.543\n",
            "[Epoch - 42] Train Loss: 1.086, Val Loss: 1.001\n",
            "[Epoch - 43, Iteration -  5000] Loss: 1.089\n",
            "[Epoch - 43, Iteration - 10000] Loss: 0.542\n",
            "[Epoch - 43] Train Loss: 1.086, Val Loss: 1.001\n",
            "[Epoch - 44, Iteration -  5000] Loss: 1.082\n",
            "[Epoch - 44, Iteration - 10000] Loss: 0.544\n",
            "[Epoch - 44] Train Loss: 1.085, Val Loss: 1.001\n",
            "[Epoch - 45, Iteration -  5000] Loss: 1.096\n",
            "[Epoch - 45, Iteration - 10000] Loss: 0.537\n",
            "[Epoch - 45] Train Loss: 1.085, Val Loss: 1.001\n",
            "[Epoch - 46, Iteration -  5000] Loss: 1.100\n",
            "[Epoch - 46, Iteration - 10000] Loss: 0.542\n",
            "[Epoch - 46] Train Loss: 1.092, Val Loss: 1.001\n",
            "[Epoch - 47, Iteration -  5000] Loss: 1.081\n",
            "[Epoch - 47, Iteration - 10000] Loss: 0.542\n",
            "[Epoch - 47] Train Loss: 1.082, Val Loss: 1.001\n",
            "[Epoch - 48, Iteration -  5000] Loss: 1.094\n",
            "[Epoch - 48, Iteration - 10000] Loss: 0.545\n",
            "[Epoch - 48] Train Loss: 1.092, Val Loss: 1.001\n",
            "[Epoch - 49, Iteration -  5000] Loss: 1.075\n",
            "[Epoch - 49, Iteration - 10000] Loss: 0.548\n",
            "[Epoch - 49] Train Loss: 1.086, Val Loss: 1.001\n",
            "[Epoch - 50, Iteration -  5000] Loss: 1.084\n",
            "[Epoch - 50, Iteration - 10000] Loss: 0.547\n",
            "[Epoch - 50] Train Loss: 1.089, Val Loss: 1.001\n",
            "Finished Training\n"
          ]
        }
      ],
      "source": [
        "import matplotlib.pyplot as plt\n",
        "\n",
        "# Set the number of epochs\n",
        "epochs = 50\n",
        "\n",
        "# Arrays to store training and validation losses\n",
        "train_losses = []\n",
        "val_losses = []\n",
        "\n",
        "for epoch in range(epochs):\n",
        "    # Training phase\n",
        "    loss_tmp = 0.0\n",
        "    epoch_loss = 0.0\n",
        "    net.train()  # Set the model to training mode\n",
        "    for i, data in enumerate(trainloader, start=0):\n",
        "        # Load the data\n",
        "        inputs, labels = data\n",
        "        inputs = inputs.to(device)\n",
        "        labels = labels.to(device)\n",
        "\n",
        "        # Estimate the output using the network\n",
        "        outputs = net(inputs)\n",
        "\n",
        "        # Calculate the loss between the output of the network and label\n",
        "        loss = criterion(outputs, labels)\n",
        "\n",
        "        # Optimize the network\n",
        "        optimizer.zero_grad()\n",
        "        loss.backward()\n",
        "        optimizer.step()\n",
        "\n",
        "        loss_tmp += loss.item()\n",
        "        epoch_loss += loss.item()\n",
        "\n",
        "        if i % 5000 == 4999:  # Print loss every 5000 mini-batches\n",
        "            print('[Epoch - %d, Iteration - %5d] Loss: %.3f' %\n",
        "                  (epoch + 1, i + 1, loss_tmp / (i + 1)))\n",
        "            loss_tmp = 0.0\n",
        "\n",
        "    # Calculate the average training loss for the epoch\n",
        "    avg_train_loss = epoch_loss / (i + 1)\n",
        "    train_losses.append(avg_train_loss)\n",
        "\n",
        "    # Validation phase\n",
        "    val_loss = 0.0\n",
        "    net.eval()  # Set the model to evaluation mode\n",
        "    with torch.no_grad():\n",
        "        for data in valloader:\n",
        "            inputs, labels = data\n",
        "            inputs = inputs.to(device)\n",
        "            labels = labels.to(device)\n",
        "\n",
        "            outputs = net(inputs)\n",
        "            loss = criterion(outputs, labels)\n",
        "            val_loss += loss.item()\n",
        "\n",
        "    avg_val_loss = val_loss / len(valloader)\n",
        "    val_losses.append(avg_val_loss)\n",
        "\n",
        "    # Update the learning rate according to the learning rate scheduler\n",
        "    scheduler.step()\n",
        "\n",
        "    # Print the epoch loss\n",
        "    print('[Epoch - %d] Train Loss: %.3f, Val Loss: %.3f' % (epoch + 1, avg_train_loss, avg_val_loss))\n",
        "\n",
        "print('Finished Training')\n",
        "\n"
      ]
    },
    {
      "cell_type": "code",
      "source": [
        "# Plotting training and validation loss\n",
        "plt.figure(figsize=(10, 5))\n",
        "plt.plot(range(1, epochs + 1), train_losses, label='Training Loss')\n",
        "plt.plot(range(1, epochs + 1), val_losses, label='Validation Loss')\n",
        "plt.xlabel('Epoch')\n",
        "plt.ylabel('Loss')\n",
        "plt.title('Training and Validation Loss')\n",
        "plt.legend()\n",
        "plt.show()\n"
      ],
      "metadata": {
        "colab": {
          "base_uri": "https://localhost:8080/",
          "height": 444
        },
        "id": "KIpep9u_D6kv",
        "outputId": "1e4c5110-54eb-40b9-d891-68767e0bc4d3"
      },
      "execution_count": null,
      "outputs": [
        {
          "output_type": "display_data",
          "data": {
            "text/plain": [
              "<Figure size 1000x500 with 1 Axes>"
            ],
            "image/png": "[encoded data removed]"
          },
          "metadata": {}
        }
      ]
    },
    {
      "cell_type": "markdown",
      "source": [
        "# **Test the network**\n",
        "\n",
        "Test the trained network using the testset.\n",
        "\n",
        "Accuracy of the network on the 10,000 test images is the final accuracy of your network.\n",
        "\n",
        "The closer the accuray is to 100%, the better the network classifies the input image."
      ],
      "metadata": {
        "id": "CgDA6_LlfNhE"
      }
    },
    {
      "cell_type": "code",
      "execution_count": null,
      "metadata": {
        "colab": {
          "base_uri": "https://localhost:8080/",
          "height": 229
        },
        "id": "fNfptwqLqpdA",
        "outputId": "8d33ea0b-8537-4ac5-e66f-1db7ff8dd846"
      },
      "outputs": [
        {
          "output_type": "stream",
          "name": "stdout",
          "text": [
            "GroundTruth:    cat  ship  ship plane\n",
            "Predicted:    cat  ship  ship plane\n"
          ]
        },
        {
          "output_type": "display_data",
          "data": {
            "text/plain": [
              "<Figure size 640x480 with 1 Axes>"
            ],
            "image/png": "[encoded data removed]"
          },
          "metadata": {}
        }
      ],
      "source": [
        "# Test the trained model with sample\n",
        "\n",
        "dataiter_test = iter(testloader)\n",
        "img_test, labels_test = next(dataiter_test)\n",
        "\n",
        "imshow(torchvision.utils.make_grid(img_test))\n",
        "print('GroundTruth: ', ' '.join('%5s' % classes[labels_test[j]] for j in range(4)))\n",
        "\n",
        "img_test = img_test.to(device)\n",
        "labels_test = labels_test.to(device)\n",
        "\n",
        "# Prediction\n",
        "outputs_test = net(img_test)\n",
        "_, predicted = torch.max(outputs_test.data, 1)\n",
        "print('Predicted: ', ' '.join('%5s' % classes[predicted[j]] for j in range(4)))"
      ]
    },
    {
      "cell_type": "code",
      "execution_count": null,
      "metadata": {
        "colab": {
          "base_uri": "https://localhost:8080/"
        },
        "id": "DNrXRT1NrJft",
        "outputId": "99f63f92-e85b-4c27-dce2-1f3c1f30b1c8"
      },
      "outputs": [
        {
          "output_type": "stream",
          "name": "stdout",
          "text": [
            "Accuracy of the network on the 10,000 test images: 65 %\n"
          ]
        }
      ],
      "source": [
        "# Test the trained model with overall test dataset\n",
        "\n",
        "correct = 0\n",
        "total = 0\n",
        "for data in testloader:\n",
        "    # Load the data\n",
        "    inputs_test, labels_test = data\n",
        "    inputs_test = inputs_test.to(device)\n",
        "    labels_test = labels_test.to(device)\n",
        "\n",
        "    # Estimate the output using the trained network\n",
        "    outputs_test = net(inputs_test)\n",
        "    _, predicted = torch.max(outputs_test.data, 1)\n",
        "\n",
        "    # Calculate the accuracy\n",
        "    total += labels_test.size(0)\n",
        "    correct += (predicted == labels_test).sum()\n",
        "\n",
        "# Final accuracy\n",
        "print('Accuracy of the network on the 10,000 test images: %d %%' % (100 * correct / total))\n"
      ]
    },
    {
      "cell_type": "code",
      "source": [],
      "metadata": {
        "id": "zmTKB2vLqQwy"
      },
      "execution_count": null,
      "outputs": []
    }
  ],
  "metadata": {
    "colab": {
      "provenance": [],
      "gpuType": "T4"
    },
    "gpuClass": "standard",
    "kernelspec": {
      "display_name": "Python 3",
      "name": "python3"
    },
    "language_info": {
      "name": "python"
    },
    "accelerator": "GPU"
  },
  "nbformat": 4,
  "nbformat_minor": 0
}