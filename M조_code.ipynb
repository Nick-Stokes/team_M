{
  "cells": [
    {
      "cell_type": "markdown",
      "source": [
        "# ***Final Project***\n",
        "---\n",
        "\n",
        "# 소프트웨어 융합 전공 2011218 이채림\n",
        "# IT공학과 2214224 서지은\n",
        "# 기계시스템학부 2316438 임채연"
      ],
      "metadata": {
        "id": "8H2mplXJU1d6"
      }
    },
    {
      "cell_type": "code",
      "execution_count": null,
      "metadata": {
        "id": "Fr9zgCgCmdNq"
      },
      "outputs": [],
      "source": [
        "# AS usual, a bit of setup\n",
        "# If you need other libraries, you should import the libraries.\n",
        "\n",
        "import os, sys\n",
        "import torch\n",
        "from torch import nn\n",
        "from torch.nn import functional as F\n",
        "\n",
        "import torchvision\n",
        "import torchvision.transforms as transforms\n",
        "import torchvision.datasets as datasets\n",
        "\n",
        "import matplotlib.pyplot as plt\n",
        "import numpy as np"
      ]
    },
    {
      "cell_type": "code",
      "execution_count": null,
      "metadata": {
        "colab": {
          "base_uri": "https://localhost:8080/"
        },
        "id": "V9pg5nB1pXEO",
        "outputId": "9762232c-3279-4f53-833a-940351545ae6"
      },
      "outputs": [
        {
          "output_type": "stream",
          "name": "stdout",
          "text": [
            "cuda\n"
          ]
        }
      ],
      "source": [
        "# Set the device\n",
        "device = 'cuda' if torch.cuda.is_available() else 'cpu'\n",
        "print(device)"
      ]
    },
    {
      "cell_type": "markdown",
      "source": [
        "# **Data Loader**\n",
        "\n",
        "You can load the CIFAR-10 dataset using the library `torchvision.datasets`\n",
        "\n",
        "The details of CIFAR-10 dataset can be found in https://www.cs.toronto.edu/~kriz/cifar.html\n",
        "\n",
        "`transforms_cifar10` is used to assemble several transforms for data preprossing."
      ],
      "metadata": {
        "id": "q-G1AJVsbqwc"
      }
    },
    {
      "cell_type": "code",
      "execution_count": null,
      "metadata": {
        "colab": {
          "base_uri": "https://localhost:8080/"
        },
        "id": "HOEFPBpcmmHU",
        "outputId": "b58a3a67-b053-4fcf-d241-4e197893f922"
      },
      "outputs": [
        {
          "output_type": "stream",
          "name": "stdout",
          "text": [
            "Downloading https://www.cs.toronto.edu/~kriz/cifar-10-python.tar.gz to ./data/cifar-10-python.tar.gz\n"
          ]
        },
        {
          "output_type": "stream",
          "name": "stderr",
          "text": [
            "100%|██████████| 170498071/170498071 [00:03<00:00, 46070210.43it/s]\n"
          ]
        },
        {
          "output_type": "stream",
          "name": "stdout",
          "text": [
            "Extracting ./data/cifar-10-python.tar.gz to ./data\n",
            "Files already downloaded and verified\n",
            "Files already downloaded and verified\n"
          ]
        }
      ],
      "source": [
        "import torch\n",
        "import torchvision.transforms as transforms\n",
        "import torchvision.datasets as datasets\n",
        "\n",
        "# Data augmentation and normalization for CIFAR-10\n",
        "transform_train = transforms.Compose([\n",
        "    transforms.RandomCrop(32, padding=4),  # Random crop with padding\n",
        "    transforms.RandomHorizontalFlip(),  # Random horizontal flip\n",
        "    transforms.ColorJitter(brightness=0.2, contrast=0.2, saturation=0.2, hue=0.2),  # Color jitter\n",
        "    transforms.RandomRotation(15), #Random Rotation\n",
        "    transforms.ToTensor(),\n",
        "    transforms.Normalize((0.5, 0.5, 0.5), (0.5, 0.5, 0.5))\n",
        "])\n",
        "\n",
        "transform_test = transforms.Compose([\n",
        "    transforms.Resize((32, 32)),  # Fixed size\n",
        "    transforms.ToTensor(),\n",
        "    transforms.Normalize((0.5, 0.5, 0.5), (0.5, 0.5, 0.5))\n",
        "])\n",
        "\n",
        "# Train dataset with augmentation\n",
        "trainset = datasets.CIFAR10(root='./data', train=True, download=True, transform=transform_train)\n",
        "\n",
        "# Split trainset into training and validation sets\n",
        "train_size = int(0.8 * len(trainset))\n",
        "val_size = len(trainset) - train_size\n",
        "train_subset, val_subset = torch.utils.data.random_split(trainset, [train_size, val_size])\n",
        "\n",
        "# Validation dataset (using test transformations)\n",
        "valset = datasets.CIFAR10(root='./data', train=True, download=True, transform=transform_test)\n",
        "val_subset.dataset = valset  # Update transform for validation subset\n",
        "\n",
        "# DataLoaders\n",
        "trainloader = torch.utils.data.DataLoader(train_subset, batch_size=4, shuffle=True, num_workers=2)\n",
        "valloader = torch.utils.data.DataLoader(val_subset, batch_size=4, shuffle=False, num_workers=2)\n",
        "\n",
        "# Test dataset\n",
        "testset = datasets.CIFAR10(root='./data', train=False, download=True, transform=transform_test)\n",
        "testloader = torch.utils.data.DataLoader(testset, batch_size=4, shuffle=False, num_workers=2)\n",
        "\n",
        "# Classes of CIFAR-10 dataset\n",
        "classes = (\"plane\", \"car\", \"bird\", \"cat\", \"deer\", \"dog\", \"frog\", \"horse\", \"ship\", \"truck\")\n"
      ]
    },
    {
      "cell_type": "code",
      "execution_count": null,
      "metadata": {
        "colab": {
          "base_uri": "https://localhost:8080/",
          "height": 211
        },
        "id": "d7JdtMAzoCac",
        "outputId": "2a765a38-f86c-4570-f519-8a6ca5395874"
      },
      "outputs": [
        {
          "output_type": "stream",
          "name": "stdout",
          "text": [
            "truck   dog  bird plane\n"
          ]
        },
        {
          "output_type": "display_data",
          "data": {
            "text/plain": [
              "<Figure size 640x480 with 1 Axes>"
            ],
            "image/png": "[encoded data removed]"
          },
          "metadata": {}
        }
      ],
      "source": [
        "# Examples of dataset\n",
        "\n",
        "def imshow(img):\n",
        "  img = img /2 + 0.5\n",
        "\n",
        "  npimg = img.numpy()\n",
        "  plt.imshow(np.transpose(npimg, (1, 2, 0)))\n",
        "\n",
        "dataiter = iter(trainloader)\n",
        "imgs, labels = next(dataiter)\n",
        "\n",
        "imshow(torchvision.utils.make_grid(imgs))\n",
        "print(' '.join('%5s' % classes[labels[j]] for j in range(4)))\n"
      ]
    },
    {
      "cell_type": "markdown",
      "source": [
        "# **Your own CNN**\n",
        "\n",
        "You can implement your own network using libraries such as `torch.nn`and `torch.nn.functional`.\n",
        "\n",
        "`SimpleNet` and `VGG11` are examples to help your understand the implementation of the network.\n",
        "\n",
        "So, you can modify the given codes or create another awesome neural network for CIFAR-10 classification."
      ],
      "metadata": {
        "id": "Y77itjthc5Xh"
      }
    },
    {
      "cell_type": "code",
      "execution_count": null,
      "metadata": {
        "id": "068wqyqdo_fc"
      },
      "outputs": [],
      "source": [
        "import torch\n",
        "import torch.nn as nn\n",
        "import torch.nn.functional as F\n",
        "\n",
        "class SimpleNet(nn.Module): #Batch Normalization과 dropout 사용\n",
        "    def __init__(self):\n",
        "        super(SimpleNet, self).__init__()\n",
        "        self.conv1 = nn.Conv2d(3, 32, 3, padding=1)\n",
        "        self.bn1 = nn.BatchNorm2d(32)\n",
        "        self.conv2 = nn.Conv2d(32, 64, 3, padding=1)\n",
        "        self.bn2 = nn.BatchNorm2d(64)\n",
        "        self.conv3 = nn.Conv2d(64, 128, 3, padding=1)\n",
        "        self.bn3 = nn.BatchNorm2d(128)\n",
        "        self.conv4 = nn.Conv2d(128, 256, 3, padding=1)\n",
        "        self.bn4 = nn.BatchNorm2d(256)\n",
        "        self.conv5 = nn.Conv2d(256, 256, 3, padding=1)\n",
        "        self.bn5 = nn.BatchNorm2d(256)\n",
        "        self.conv6 = nn.Conv2d(256, 256, 3, padding=1)\n",
        "        self.bn6 = nn.BatchNorm2d(256)\n",
        "        self.pool = nn.MaxPool2d(2, 2)\n",
        "        self.dropout = nn.Dropout(0.5)\n",
        "        self.fc1 = nn.Linear(256 * 4 * 4, 512)\n",
        "        self.fc2 = nn.Linear(512, 256)\n",
        "        self.fc3 = nn.Linear(256, 10)\n",
        "\n",
        "    def forward(self, x):\n",
        "        x = F.relu(self.bn1(self.conv1(x)))\n",
        "        x = self.pool(F.relu(self.bn2(self.conv2(x))))  # 32x32 -> 16x16\n",
        "        x = F.relu(self.bn3(self.conv3(x)))\n",
        "        x = self.pool(F.relu(self.bn4(self.conv4(x))))  # 16x16 -> 8x8\n",
        "        x = F.relu(self.bn5(self.conv5(x)))\n",
        "        x = self.pool(F.relu(self.bn6(self.conv6(x))))  # 8x8 -> 4x4\n",
        "        x = x.view(-1, 256 * 4 * 4)\n",
        "        x = F.relu(self.fc1(x))\n",
        "        x = self.dropout(x)  # Dropout 사용\n",
        "        x = F.relu(self.fc2(x))\n",
        "        x = self.fc3(x)\n",
        "        return x\n",
        "\n"
      ]
    },
    {
      "cell_type": "code",
      "source": [
        "device = torch.device(\"cuda\" if torch.cuda.is_available() else \"cpu\")\n",
        "net = SimpleNet().to(device)"
      ],
      "metadata": {
        "id": "e-4Anr45e36F"
      },
      "execution_count": null,
      "outputs": []
    },
    {
      "cell_type": "code",
      "source": [
        "!pip install torchsummary\n",
        "from torchsummary import summary\n",
        "\n",
        "summary(net, (3, 32, 32))"
      ],
      "metadata": {
        "colab": {
          "base_uri": "https://localhost:8080/"
        },
        "id": "QjHRVmAYDEmE",
        "outputId": "29f1d513-9f0f-40f9-b5d3-b63574183786"
      },
      "execution_count": null,
      "outputs": [
        {
          "output_type": "stream",
          "name": "stdout",
          "text": [
            "Requirement already satisfied: torchsummary in /usr/local/lib/python3.10/dist-packages (1.5.1)\n",
            "----------------------------------------------------------------\n",
            "        Layer (type)               Output Shape         Param #\n",
            "================================================================\n",
            "            Conv2d-1           [-1, 32, 32, 32]             896\n",
            "       BatchNorm2d-2           [-1, 32, 32, 32]              64\n",
            "            Conv2d-3           [-1, 64, 32, 32]          18,496\n",
            "       BatchNorm2d-4           [-1, 64, 32, 32]             128\n",
            "         MaxPool2d-5           [-1, 64, 16, 16]               0\n",
            "            Conv2d-6          [-1, 128, 16, 16]          73,856\n",
            "       BatchNorm2d-7          [-1, 128, 16, 16]             256\n",
            "            Conv2d-8          [-1, 256, 16, 16]         295,168\n",
            "       BatchNorm2d-9          [-1, 256, 16, 16]             512\n",
            "        MaxPool2d-10            [-1, 256, 8, 8]               0\n",
            "           Conv2d-11            [-1, 256, 8, 8]         590,080\n",
            "      BatchNorm2d-12            [-1, 256, 8, 8]             512\n",
            "           Conv2d-13            [-1, 256, 8, 8]         590,080\n",
            "      BatchNorm2d-14            [-1, 256, 8, 8]             512\n",
            "        MaxPool2d-15            [-1, 256, 4, 4]               0\n",
            "           Linear-16                  [-1, 512]       2,097,664\n",
            "          Dropout-17                  [-1, 512]               0\n",
            "           Linear-18                  [-1, 256]         131,328\n",
            "           Linear-19                   [-1, 10]           2,570\n",
            "================================================================\n",
            "Total params: 3,802,122\n",
            "Trainable params: 3,802,122\n",
            "Non-trainable params: 0\n",
            "----------------------------------------------------------------\n",
            "Input size (MB): 0.01\n",
            "Forward/backward pass size (MB): 3.79\n",
            "Params size (MB): 14.50\n",
            "Estimated Total Size (MB): 18.31\n",
            "----------------------------------------------------------------\n"
          ]
        }
      ]
    },
    {
      "cell_type": "markdown",
      "source": [
        "# **Loss function and optimizer**\n",
        "\n",
        "Set the **loss function and optimizer** for training CNN.\n",
        "You can modify the loss function or optimizer for better performance."
      ],
      "metadata": {
        "id": "SXLnGlLgdyZ2"
      }
    },
    {
      "cell_type": "code",
      "execution_count": null,
      "metadata": {
        "id": "oB0f6C2npeoj"
      },
      "outputs": [],
      "source": [
        "# Loss function and optimizer\n",
        "criterion = nn.CrossEntropyLoss()\n",
        "optimizer = torch.optim.SGD(net.parameters(), lr=0.001, momentum=0.9) #Weight Decay사용\n",
        "scheduler = torch.optim.lr_scheduler.CosineAnnealingWarmRestarts(optimizer, T_0=10, T_mult=1, eta_min=0.00001)"
      ]
    },
    {
      "cell_type": "markdown",
      "source": [
        "# **Train the network**\n",
        "\n",
        "Train your own network using the above loss function and optimizer."
      ],
      "metadata": {
        "id": "DInMRCnReWno"
      }
    },
    {
      "cell_type": "code",
      "execution_count": null,
      "metadata": {
        "colab": {
          "base_uri": "https://localhost:8080/"
        },
        "id": "2vvD0eNCpqxj",
        "outputId": "b1ad227a-d8c8-48e8-ec25-95226986b112"
      },
      "outputs": [
        {
          "output_type": "stream",
          "name": "stdout",
          "text": [
            "[Epoch - 1, Iteration -  5000] Loss: 1.943\n",
            "[Epoch - 1, Iteration - 10000] Loss: 0.841\n",
            "[Epoch - 1] Train Loss: 1.813, Val Loss: 1.359\n",
            "[Epoch - 2, Iteration -  5000] Loss: 1.510\n",
            "[Epoch - 2, Iteration - 10000] Loss: 0.700\n",
            "[Epoch - 2] Train Loss: 1.455, Val Loss: 1.060\n",
            "[Epoch - 3, Iteration -  5000] Loss: 1.285\n",
            "[Epoch - 3, Iteration - 10000] Loss: 0.617\n",
            "[Epoch - 3] Train Loss: 1.260, Val Loss: 0.924\n",
            "[Epoch - 4, Iteration -  5000] Loss: 1.149\n",
            "[Epoch - 4, Iteration - 10000] Loss: 0.552\n",
            "[Epoch - 4] Train Loss: 1.126, Val Loss: 0.811\n",
            "[Epoch - 5, Iteration -  5000] Loss: 1.047\n",
            "[Epoch - 5, Iteration - 10000] Loss: 0.502\n",
            "[Epoch - 5] Train Loss: 1.026, Val Loss: 0.782\n",
            "[Epoch - 6, Iteration -  5000] Loss: 0.940\n",
            "[Epoch - 6, Iteration - 10000] Loss: 0.458\n",
            "[Epoch - 6] Train Loss: 0.929, Val Loss: 0.714\n",
            "[Epoch - 7, Iteration -  5000] Loss: 0.862\n",
            "[Epoch - 7, Iteration - 10000] Loss: 0.419\n",
            "[Epoch - 7] Train Loss: 0.850, Val Loss: 0.634\n",
            "[Epoch - 8, Iteration -  5000] Loss: 0.798\n",
            "[Epoch - 8, Iteration - 10000] Loss: 0.389\n",
            "[Epoch - 8] Train Loss: 0.788, Val Loss: 0.607\n",
            "[Epoch - 9, Iteration -  5000] Loss: 0.742\n",
            "[Epoch - 9, Iteration - 10000] Loss: 0.366\n",
            "[Epoch - 9] Train Loss: 0.737, Val Loss: 0.565\n",
            "[Epoch - 10, Iteration -  5000] Loss: 0.703\n",
            "[Epoch - 10, Iteration - 10000] Loss: 0.347\n",
            "[Epoch - 10] Train Loss: 0.699, Val Loss: 0.554\n",
            "[Epoch - 11, Iteration -  5000] Loss: 0.960\n",
            "[Epoch - 11, Iteration - 10000] Loss: 0.478\n",
            "[Epoch - 11] Train Loss: 0.958, Val Loss: 0.752\n",
            "[Epoch - 12, Iteration -  5000] Loss: 0.916\n",
            "[Epoch - 12, Iteration - 10000] Loss: 0.444\n",
            "[Epoch - 12] Train Loss: 0.902, Val Loss: 0.665\n",
            "[Epoch - 13, Iteration -  5000] Loss: 0.846\n",
            "[Epoch - 13, Iteration - 10000] Loss: 0.421\n",
            "[Epoch - 13] Train Loss: 0.844, Val Loss: 0.626\n",
            "[Epoch - 14, Iteration -  5000] Loss: 0.800\n",
            "[Epoch - 14, Iteration - 10000] Loss: 0.389\n",
            "[Epoch - 14] Train Loss: 0.789, Val Loss: 0.606\n",
            "[Epoch - 15, Iteration -  5000] Loss: 0.728\n",
            "[Epoch - 15, Iteration - 10000] Loss: 0.362\n",
            "[Epoch - 15] Train Loss: 0.726, Val Loss: 0.551\n",
            "[Epoch - 16, Iteration -  5000] Loss: 0.678\n",
            "[Epoch - 16, Iteration - 10000] Loss: 0.332\n",
            "[Epoch - 16] Train Loss: 0.671, Val Loss: 0.511\n",
            "[Epoch - 17, Iteration -  5000] Loss: 0.627\n",
            "[Epoch - 17, Iteration - 10000] Loss: 0.312\n",
            "[Epoch - 17] Train Loss: 0.625, Val Loss: 0.488\n",
            "[Epoch - 18, Iteration -  5000] Loss: 0.570\n",
            "[Epoch - 18, Iteration - 10000] Loss: 0.292\n",
            "[Epoch - 18] Train Loss: 0.577, Val Loss: 0.469\n",
            "[Epoch - 19, Iteration -  5000] Loss: 0.548\n",
            "[Epoch - 19, Iteration - 10000] Loss: 0.271\n",
            "[Epoch - 19] Train Loss: 0.545, Val Loss: 0.449\n",
            "[Epoch - 20, Iteration -  5000] Loss: 0.532\n",
            "[Epoch - 20, Iteration - 10000] Loss: 0.263\n",
            "[Epoch - 20] Train Loss: 0.529, Val Loss: 0.438\n",
            "[Epoch - 21, Iteration -  5000] Loss: 0.714\n",
            "[Epoch - 21, Iteration - 10000] Loss: 0.364\n",
            "[Epoch - 21] Train Loss: 0.721, Val Loss: 0.546\n",
            "[Epoch - 22, Iteration -  5000] Loss: 0.702\n",
            "[Epoch - 22, Iteration - 10000] Loss: 0.341\n",
            "[Epoch - 22] Train Loss: 0.692, Val Loss: 0.524\n",
            "[Epoch - 23, Iteration -  5000] Loss: 0.657\n",
            "[Epoch - 23, Iteration - 10000] Loss: 0.331\n",
            "[Epoch - 23] Train Loss: 0.659, Val Loss: 0.503\n",
            "[Epoch - 24, Iteration -  5000] Loss: 0.622\n",
            "[Epoch - 24, Iteration - 10000] Loss: 0.307\n",
            "[Epoch - 24] Train Loss: 0.618, Val Loss: 0.466\n",
            "[Epoch - 25, Iteration -  5000] Loss: 0.569\n",
            "[Epoch - 25, Iteration - 10000] Loss: 0.290\n",
            "[Epoch - 25] Train Loss: 0.575, Val Loss: 0.434\n",
            "[Epoch - 26, Iteration -  5000] Loss: 0.527\n",
            "[Epoch - 26, Iteration - 10000] Loss: 0.268\n",
            "[Epoch - 26] Train Loss: 0.532, Val Loss: 0.426\n",
            "[Epoch - 27, Iteration -  5000] Loss: 0.490\n",
            "[Epoch - 27, Iteration - 10000] Loss: 0.244\n",
            "[Epoch - 27] Train Loss: 0.489, Val Loss: 0.395\n",
            "[Epoch - 28, Iteration -  5000] Loss: 0.465\n",
            "[Epoch - 28, Iteration - 10000] Loss: 0.232\n",
            "[Epoch - 28] Train Loss: 0.465, Val Loss: 0.389\n",
            "[Epoch - 29, Iteration -  5000] Loss: 0.436\n",
            "[Epoch - 29, Iteration - 10000] Loss: 0.218\n",
            "[Epoch - 29] Train Loss: 0.436, Val Loss: 0.376\n",
            "[Epoch - 30, Iteration -  5000] Loss: 0.424\n",
            "[Epoch - 30, Iteration - 10000] Loss: 0.208\n",
            "[Epoch - 30] Train Loss: 0.420, Val Loss: 0.372\n",
            "[Epoch - 31, Iteration -  5000] Loss: 0.567\n",
            "[Epoch - 31, Iteration - 10000] Loss: 0.292\n",
            "[Epoch - 31] Train Loss: 0.576, Val Loss: 0.452\n",
            "[Epoch - 32, Iteration -  5000] Loss: 0.559\n",
            "[Epoch - 32, Iteration - 10000] Loss: 0.281\n",
            "[Epoch - 32] Train Loss: 0.561, Val Loss: 0.439\n",
            "[Epoch - 33, Iteration -  5000] Loss: 0.529\n",
            "[Epoch - 33, Iteration - 10000] Loss: 0.268\n",
            "[Epoch - 33] Train Loss: 0.533, Val Loss: 0.419\n",
            "[Epoch - 34, Iteration -  5000] Loss: 0.506\n",
            "[Epoch - 34, Iteration - 10000] Loss: 0.252\n",
            "[Epoch - 34] Train Loss: 0.505, Val Loss: 0.397\n",
            "[Epoch - 35, Iteration -  5000] Loss: 0.475\n",
            "[Epoch - 35, Iteration - 10000] Loss: 0.231\n",
            "[Epoch - 35] Train Loss: 0.468, Val Loss: 0.388\n",
            "[Epoch - 36, Iteration -  5000] Loss: 0.454\n",
            "[Epoch - 36, Iteration - 10000] Loss: 0.220\n",
            "[Epoch - 36] Train Loss: 0.448, Val Loss: 0.376\n",
            "[Epoch - 37, Iteration -  5000] Loss: 0.408\n",
            "[Epoch - 37, Iteration - 10000] Loss: 0.203\n",
            "[Epoch - 37] Train Loss: 0.407, Val Loss: 0.343\n",
            "[Epoch - 38, Iteration -  5000] Loss: 0.373\n",
            "[Epoch - 38, Iteration - 10000] Loss: 0.197\n",
            "[Epoch - 38] Train Loss: 0.384, Val Loss: 0.334\n",
            "[Epoch - 39, Iteration -  5000] Loss: 0.365\n",
            "[Epoch - 39, Iteration - 10000] Loss: 0.176\n",
            "[Epoch - 39] Train Loss: 0.358, Val Loss: 0.332\n",
            "[Epoch - 40, Iteration -  5000] Loss: 0.338\n",
            "[Epoch - 40, Iteration - 10000] Loss: 0.176\n",
            "[Epoch - 40] Train Loss: 0.345, Val Loss: 0.322\n",
            "[Epoch - 41, Iteration -  5000] Loss: 0.474\n",
            "[Epoch - 41, Iteration - 10000] Loss: 0.247\n",
            "[Epoch - 41] Train Loss: 0.484, Val Loss: 0.427\n",
            "[Epoch - 42, Iteration -  5000] Loss: 0.473\n",
            "[Epoch - 42, Iteration - 10000] Loss: 0.239\n",
            "[Epoch - 42] Train Loss: 0.476, Val Loss: 0.418\n",
            "[Epoch - 43, Iteration -  5000] Loss: 0.455\n",
            "[Epoch - 43, Iteration - 10000] Loss: 0.230\n",
            "[Epoch - 43] Train Loss: 0.457, Val Loss: 0.368\n",
            "[Epoch - 44, Iteration -  5000] Loss: 0.438\n",
            "[Epoch - 44, Iteration - 10000] Loss: 0.215\n",
            "[Epoch - 44] Train Loss: 0.434, Val Loss: 0.370\n",
            "[Epoch - 45, Iteration -  5000] Loss: 0.407\n",
            "[Epoch - 45, Iteration - 10000] Loss: 0.204\n",
            "[Epoch - 45] Train Loss: 0.407, Val Loss: 0.356\n",
            "[Epoch - 46, Iteration -  5000] Loss: 0.386\n",
            "[Epoch - 46, Iteration - 10000] Loss: 0.184\n",
            "[Epoch - 46] Train Loss: 0.378, Val Loss: 0.346\n",
            "[Epoch - 47, Iteration -  5000] Loss: 0.353\n",
            "[Epoch - 47, Iteration - 10000] Loss: 0.177\n",
            "[Epoch - 47] Train Loss: 0.353, Val Loss: 0.321\n",
            "[Epoch - 48, Iteration -  5000] Loss: 0.331\n",
            "[Epoch - 48, Iteration - 10000] Loss: 0.162\n",
            "[Epoch - 48] Train Loss: 0.328, Val Loss: 0.318\n",
            "[Epoch - 49, Iteration -  5000] Loss: 0.313\n",
            "[Epoch - 49, Iteration - 10000] Loss: 0.153\n",
            "[Epoch - 49] Train Loss: 0.310, Val Loss: 0.307\n",
            "[Epoch - 50, Iteration -  5000] Loss: 0.295\n",
            "[Epoch - 50, Iteration - 10000] Loss: 0.148\n",
            "[Epoch - 50] Train Loss: 0.295, Val Loss: 0.307\n",
            "[Epoch - 51, Iteration -  5000] Loss: 0.413\n",
            "[Epoch - 51, Iteration - 10000] Loss: 0.214\n",
            "[Epoch - 51] Train Loss: 0.421, Val Loss: 0.374\n",
            "[Epoch - 52, Iteration -  5000] Loss: 0.418\n",
            "[Epoch - 52, Iteration - 10000] Loss: 0.207\n",
            "[Epoch - 52] Train Loss: 0.416, Val Loss: 0.358\n",
            "[Epoch - 53, Iteration -  5000] Loss: 0.404\n",
            "[Epoch - 53, Iteration - 10000] Loss: 0.201\n",
            "[Epoch - 53] Train Loss: 0.403, Val Loss: 0.347\n",
            "[Epoch - 54, Iteration -  5000] Loss: 0.384\n",
            "[Epoch - 54, Iteration - 10000] Loss: 0.189\n",
            "[Epoch - 54] Train Loss: 0.381, Val Loss: 0.352\n",
            "[Epoch - 55, Iteration -  5000] Loss: 0.350\n",
            "[Epoch - 55, Iteration - 10000] Loss: 0.178\n",
            "[Epoch - 55] Train Loss: 0.352, Val Loss: 0.329\n",
            "[Epoch - 56, Iteration -  5000] Loss: 0.329\n",
            "[Epoch - 56, Iteration - 10000] Loss: 0.166\n",
            "[Epoch - 56] Train Loss: 0.330, Val Loss: 0.315\n",
            "[Epoch - 57, Iteration -  5000] Loss: 0.301\n",
            "[Epoch - 57, Iteration - 10000] Loss: 0.161\n",
            "[Epoch - 57] Train Loss: 0.311, Val Loss: 0.308\n",
            "[Epoch - 58, Iteration -  5000] Loss: 0.289\n",
            "[Epoch - 58, Iteration - 10000] Loss: 0.142\n",
            "[Epoch - 58] Train Loss: 0.286, Val Loss: 0.303\n",
            "[Epoch - 59, Iteration -  5000] Loss: 0.274\n",
            "[Epoch - 59, Iteration - 10000] Loss: 0.132\n",
            "[Epoch - 59] Train Loss: 0.269, Val Loss: 0.287\n",
            "[Epoch - 60, Iteration -  5000] Loss: 0.264\n",
            "[Epoch - 60, Iteration - 10000] Loss: 0.127\n",
            "[Epoch - 60] Train Loss: 0.259, Val Loss: 0.285\n",
            "[Epoch - 61, Iteration -  5000] Loss: 0.367\n",
            "[Epoch - 61, Iteration - 10000] Loss: 0.195\n",
            "[Epoch - 61] Train Loss: 0.379, Val Loss: 0.354\n",
            "[Epoch - 62, Iteration -  5000] Loss: 0.374\n",
            "[Epoch - 62, Iteration - 10000] Loss: 0.189\n",
            "[Epoch - 62] Train Loss: 0.376, Val Loss: 0.362\n",
            "[Epoch - 63, Iteration -  5000] Loss: 0.354\n",
            "[Epoch - 63, Iteration - 10000] Loss: 0.179\n",
            "[Epoch - 63] Train Loss: 0.356, Val Loss: 0.329\n",
            "[Epoch - 64, Iteration -  5000] Loss: 0.331\n",
            "[Epoch - 64, Iteration - 10000] Loss: 0.174\n",
            "[Epoch - 64] Train Loss: 0.339, Val Loss: 0.326\n",
            "[Epoch - 65, Iteration -  5000] Loss: 0.314\n",
            "[Epoch - 65, Iteration - 10000] Loss: 0.160\n",
            "[Epoch - 65] Train Loss: 0.317, Val Loss: 0.303\n",
            "[Epoch - 66, Iteration -  5000] Loss: 0.289\n",
            "[Epoch - 66, Iteration - 10000] Loss: 0.150\n",
            "[Epoch - 66] Train Loss: 0.295, Val Loss: 0.298\n",
            "[Epoch - 67, Iteration -  5000] Loss: 0.263\n",
            "[Epoch - 67, Iteration - 10000] Loss: 0.139\n",
            "[Epoch - 67] Train Loss: 0.271, Val Loss: 0.294\n",
            "[Epoch - 68, Iteration -  5000] Loss: 0.251\n",
            "[Epoch - 68, Iteration - 10000] Loss: 0.125\n",
            "[Epoch - 68] Train Loss: 0.251, Val Loss: 0.286\n",
            "[Epoch - 69, Iteration -  5000] Loss: 0.242\n",
            "[Epoch - 69, Iteration - 10000] Loss: 0.116\n",
            "[Epoch - 69] Train Loss: 0.237, Val Loss: 0.279\n",
            "[Epoch - 70, Iteration -  5000] Loss: 0.225\n",
            "[Epoch - 70, Iteration - 10000] Loss: 0.116\n",
            "[Epoch - 70] Train Loss: 0.229, Val Loss: 0.277\n",
            "[Epoch - 71, Iteration -  5000] Loss: 0.321\n",
            "[Epoch - 71, Iteration - 10000] Loss: 0.171\n",
            "[Epoch - 71] Train Loss: 0.332, Val Loss: 0.323\n",
            "[Epoch - 72, Iteration -  5000] Loss: 0.334\n",
            "[Epoch - 72, Iteration - 10000] Loss: 0.172\n",
            "[Epoch - 72] Train Loss: 0.339, Val Loss: 0.322\n",
            "[Epoch - 73, Iteration -  5000] Loss: 0.323\n",
            "[Epoch - 73, Iteration - 10000] Loss: 0.158\n",
            "[Epoch - 73] Train Loss: 0.319, Val Loss: 0.328\n",
            "[Epoch - 74, Iteration -  5000] Loss: 0.295\n",
            "[Epoch - 74, Iteration - 10000] Loss: 0.155\n",
            "[Epoch - 74] Train Loss: 0.302, Val Loss: 0.338\n",
            "[Epoch - 75, Iteration -  5000] Loss: 0.281\n",
            "[Epoch - 75, Iteration - 10000] Loss: 0.147\n",
            "[Epoch - 75] Train Loss: 0.287, Val Loss: 0.303\n",
            "[Epoch - 76, Iteration -  5000] Loss: 0.265\n",
            "[Epoch - 76, Iteration - 10000] Loss: 0.134\n",
            "[Epoch - 76] Train Loss: 0.266, Val Loss: 0.301\n",
            "[Epoch - 77, Iteration -  5000] Loss: 0.244\n",
            "[Epoch - 77, Iteration - 10000] Loss: 0.120\n",
            "[Epoch - 77] Train Loss: 0.242, Val Loss: 0.277\n",
            "[Epoch - 78, Iteration -  5000] Loss: 0.224\n",
            "[Epoch - 78, Iteration - 10000] Loss: 0.117\n",
            "[Epoch - 78] Train Loss: 0.230, Val Loss: 0.277\n",
            "[Epoch - 79, Iteration -  5000] Loss: 0.218\n",
            "[Epoch - 79, Iteration - 10000] Loss: 0.101\n",
            "[Epoch - 79] Train Loss: 0.210, Val Loss: 0.276\n",
            "[Epoch - 80, Iteration -  5000] Loss: 0.209\n",
            "[Epoch - 80, Iteration - 10000] Loss: 0.101\n",
            "[Epoch - 80] Train Loss: 0.206, Val Loss: 0.270\n",
            "[Epoch - 81, Iteration -  5000] Loss: 0.293\n",
            "[Epoch - 81, Iteration - 10000] Loss: 0.159\n",
            "[Epoch - 81] Train Loss: 0.305, Val Loss: 0.317\n",
            "[Epoch - 82, Iteration -  5000] Loss: 0.302\n",
            "[Epoch - 82, Iteration - 10000] Loss: 0.155\n",
            "[Epoch - 82] Train Loss: 0.307, Val Loss: 0.334\n",
            "[Epoch - 83, Iteration -  5000] Loss: 0.289\n",
            "[Epoch - 83, Iteration - 10000] Loss: 0.147\n",
            "[Epoch - 83] Train Loss: 0.292, Val Loss: 0.302\n",
            "[Epoch - 84, Iteration -  5000] Loss: 0.273\n",
            "[Epoch - 84, Iteration - 10000] Loss: 0.144\n",
            "[Epoch - 84] Train Loss: 0.280, Val Loss: 0.311\n",
            "[Epoch - 85, Iteration -  5000] Loss: 0.271\n",
            "[Epoch - 85, Iteration - 10000] Loss: 0.129\n",
            "[Epoch - 85] Train Loss: 0.264, Val Loss: 0.306\n",
            "[Epoch - 86, Iteration -  5000] Loss: 0.248\n",
            "[Epoch - 86, Iteration - 10000] Loss: 0.119\n",
            "[Epoch - 86] Train Loss: 0.243, Val Loss: 0.287\n",
            "[Epoch - 87, Iteration -  5000] Loss: 0.221\n",
            "[Epoch - 87, Iteration - 10000] Loss: 0.113\n",
            "[Epoch - 87] Train Loss: 0.223, Val Loss: 0.295\n",
            "[Epoch - 88, Iteration -  5000] Loss: 0.201\n",
            "[Epoch - 88, Iteration - 10000] Loss: 0.103\n",
            "[Epoch - 88] Train Loss: 0.203, Val Loss: 0.282\n",
            "[Epoch - 89, Iteration -  5000] Loss: 0.191\n",
            "[Epoch - 89, Iteration - 10000] Loss: 0.095\n",
            "[Epoch - 89] Train Loss: 0.191, Val Loss: 0.276\n",
            "[Epoch - 90, Iteration -  5000] Loss: 0.186\n",
            "[Epoch - 90, Iteration - 10000] Loss: 0.089\n",
            "[Epoch - 90] Train Loss: 0.182, Val Loss: 0.275\n",
            "[Epoch - 91, Iteration -  5000] Loss: 0.270\n",
            "[Epoch - 91, Iteration - 10000] Loss: 0.143\n",
            "[Epoch - 91] Train Loss: 0.278, Val Loss: 0.314\n",
            "[Epoch - 92, Iteration -  5000] Loss: 0.269\n",
            "[Epoch - 92, Iteration - 10000] Loss: 0.143\n",
            "[Epoch - 92] Train Loss: 0.278, Val Loss: 0.329\n",
            "[Epoch - 93, Iteration -  5000] Loss: 0.272\n",
            "[Epoch - 93, Iteration - 10000] Loss: 0.135\n",
            "[Epoch - 93] Train Loss: 0.271, Val Loss: 0.318\n",
            "[Epoch - 94, Iteration -  5000] Loss: 0.257\n",
            "[Epoch - 94, Iteration - 10000] Loss: 0.131\n",
            "[Epoch - 94] Train Loss: 0.259, Val Loss: 0.310\n",
            "[Epoch - 95, Iteration -  5000] Loss: 0.226\n",
            "[Epoch - 95, Iteration - 10000] Loss: 0.122\n",
            "[Epoch - 95] Train Loss: 0.235, Val Loss: 0.297\n",
            "[Epoch - 96, Iteration -  5000] Loss: 0.224\n",
            "[Epoch - 96, Iteration - 10000] Loss: 0.105\n",
            "[Epoch - 96] Train Loss: 0.217, Val Loss: 0.285\n",
            "[Epoch - 97, Iteration -  5000] Loss: 0.212\n",
            "[Epoch - 97, Iteration - 10000] Loss: 0.098\n",
            "[Epoch - 97] Train Loss: 0.204, Val Loss: 0.285\n",
            "[Epoch - 98, Iteration -  5000] Loss: 0.181\n",
            "[Epoch - 98, Iteration - 10000] Loss: 0.094\n",
            "[Epoch - 98] Train Loss: 0.184, Val Loss: 0.282\n",
            "[Epoch - 99, Iteration -  5000] Loss: 0.172\n",
            "[Epoch - 99, Iteration - 10000] Loss: 0.090\n",
            "[Epoch - 99] Train Loss: 0.176, Val Loss: 0.277\n",
            "[Epoch - 100, Iteration -  5000] Loss: 0.167\n",
            "[Epoch - 100, Iteration - 10000] Loss: 0.083\n",
            "[Epoch - 100] Train Loss: 0.166, Val Loss: 0.274\n",
            "Finished Training\n"
          ]
        }
      ],
      "source": [
        "import matplotlib.pyplot as plt\n",
        "\n",
        "# Set the number of epochs\n",
        "epochs = 100\n",
        "\n",
        "# Arrays to store training and validation losses\n",
        "train_losses = []\n",
        "val_losses = []\n",
        "\n",
        "for epoch in range(epochs):\n",
        "    # Training phase\n",
        "    loss_tmp = 0.0\n",
        "    epoch_loss = 0.0\n",
        "    net.train()  # Set the model to training mode\n",
        "    for i, data in enumerate(trainloader, start=0):\n",
        "        # Load the data\n",
        "        inputs, labels = data\n",
        "        inputs = inputs.to(device)\n",
        "        labels = labels.to(device)\n",
        "\n",
        "        # Estimate the output using the network\n",
        "        outputs = net(inputs)\n",
        "\n",
        "        # Calculate the loss between the output of the network and label\n",
        "        loss = criterion(outputs, labels)\n",
        "\n",
        "        # Optimize the network\n",
        "        optimizer.zero_grad()\n",
        "        loss.backward()\n",
        "        optimizer.step()\n",
        "\n",
        "        loss_tmp += loss.item()\n",
        "        epoch_loss += loss.item()\n",
        "\n",
        "        if i % 5000 == 4999:  # Print loss every 5000 mini-batches\n",
        "            print('[Epoch - %d, Iteration - %5d] Loss: %.3f' %\n",
        "                  (epoch + 1, i + 1, loss_tmp / (i + 1)))\n",
        "            loss_tmp = 0.0\n",
        "\n",
        "    # Calculate the average training loss for the epoch\n",
        "    avg_train_loss = epoch_loss / (i + 1)\n",
        "    train_losses.append(avg_train_loss)\n",
        "\n",
        "    # Validation phase\n",
        "    val_loss = 0.0\n",
        "    net.eval()  # Set the model to evaluation mode\n",
        "    with torch.no_grad():\n",
        "        for data in valloader:\n",
        "            inputs, labels = data\n",
        "            inputs = inputs.to(device)\n",
        "            labels = labels.to(device)\n",
        "\n",
        "            outputs = net(inputs)\n",
        "            loss = criterion(outputs, labels)\n",
        "            val_loss += loss.item()\n",
        "\n",
        "    avg_val_loss = val_loss / len(valloader)\n",
        "    val_losses.append(avg_val_loss)\n",
        "\n",
        "    # Update the learning rate according to the learning rate scheduler\n",
        "    scheduler.step()\n",
        "\n",
        "    # Print the epoch loss\n",
        "    print('[Epoch - %d] Train Loss: %.3f, Val Loss: %.3f' % (epoch + 1, avg_train_loss, avg_val_loss))\n",
        "\n",
        "print('Finished Training')\n",
        "\n"
      ]
    },
    {
      "cell_type": "code",
      "source": [
        "# Plotting training and validation loss\n",
        "plt.figure(figsize=(10, 5))\n",
        "plt.plot(range(1, epochs + 1), train_losses, label='Training Loss')\n",
        "plt.plot(range(1, epochs + 1), val_losses, label='Validation Loss')\n",
        "plt.xlabel('Epoch')\n",
        "plt.ylabel('Loss')\n",
        "plt.title('Training and Validation Loss')\n",
        "plt.legend()\n",
        "plt.show()\n"
      ],
      "metadata": {
        "id": "KIpep9u_D6kv",
        "colab": {
          "base_uri": "https://localhost:8080/",
          "height": 487
        },
        "outputId": "2248328e-b1a1-496e-82fa-a9288092ce43"
      },
      "execution_count": null,
      "outputs": [
        {
          "output_type": "display_data",
          "data": {
            "text/plain": [
              "<Figure size 1000x500 with 1 Axes>"
            ],
            "image/png": "[encoded data removed]"
          },
          "metadata": {}
        }
      ]
    },
    {
      "cell_type": "markdown",
      "source": [
        "# **Test the network**\n",
        "\n",
        "Test the trained network using the testset.\n",
        "\n",
        "Accuracy of the network on the 10,000 test images is the final accuracy of your network.\n",
        "\n",
        "The closer the accuray is to 100%, the better the network classifies the input image."
      ],
      "metadata": {
        "id": "CgDA6_LlfNhE"
      }
    },
    {
      "cell_type": "code",
      "execution_count": null,
      "metadata": {
        "id": "fNfptwqLqpdA",
        "colab": {
          "base_uri": "https://localhost:8080/",
          "height": 229
        },
        "outputId": "f125a2f4-4936-4082-c7e0-31941e3c372c"
      },
      "outputs": [
        {
          "output_type": "stream",
          "name": "stdout",
          "text": [
            "GroundTruth:    cat  ship  ship plane\n",
            "Predicted:    cat  ship  ship  ship\n"
          ]
        },
        {
          "output_type": "display_data",
          "data": {
            "text/plain": [
              "<Figure size 640x480 with 1 Axes>"
            ],
            "image/png": "[encoded data removed]"
          },
          "metadata": {}
        }
      ],
      "source": [
        "# Test the trained model with sample\n",
        "\n",
        "dataiter_test = iter(testloader)\n",
        "img_test, labels_test = next(dataiter_test)\n",
        "\n",
        "imshow(torchvision.utils.make_grid(img_test))\n",
        "print('GroundTruth: ', ' '.join('%5s' % classes[labels_test[j]] for j in range(4)))\n",
        "\n",
        "img_test = img_test.to(device)\n",
        "labels_test = labels_test.to(device)\n",
        "\n",
        "# Prediction\n",
        "outputs_test = net(img_test)\n",
        "_, predicted = torch.max(outputs_test.data, 1)\n",
        "print('Predicted: ', ' '.join('%5s' % classes[predicted[j]] for j in range(4)))"
      ]
    },
    {
      "cell_type": "code",
      "execution_count": null,
      "metadata": {
        "id": "DNrXRT1NrJft",
        "colab": {
          "base_uri": "https://localhost:8080/"
        },
        "outputId": "438f527d-cd19-4cda-9f92-c468f259860d"
      },
      "outputs": [
        {
          "output_type": "stream",
          "name": "stdout",
          "text": [
            "Accuracy of the network on the 10,000 test images: 90 %\n"
          ]
        }
      ],
      "source": [
        "# Test the trained model with overall test dataset\n",
        "net.eval()\n",
        "correct = 0\n",
        "total = 0\n",
        "\n",
        "for data in testloader:\n",
        "    # Load the data\n",
        "    inputs_test, labels_test = data\n",
        "    inputs_test = inputs_test.to(device)\n",
        "    labels_test = labels_test.to(device)\n",
        "\n",
        "    # Estimate the output using the trained network\n",
        "    outputs_test = net(inputs_test)\n",
        "    _, predicted = torch.max(outputs_test.data, 1)\n",
        "\n",
        "    # Calculate the accuracy\n",
        "    total += labels_test.size(0)\n",
        "    correct += (predicted == labels_test).sum()\n",
        "\n",
        "# Final accuracy\n",
        "print('Accuracy of the network on the 10,000 test images: %d %%' % (100 * correct / total))\n"
      ]
    },
    {
      "cell_type": "code",
      "source": [],
      "metadata": {
        "id": "MntcwraIdo1D"
      },
      "execution_count": null,
      "outputs": []
    }
  ],
  "metadata": {
    "colab": {
      "provenance": [],
      "gpuType": "T4"
    },
    "gpuClass": "standard",
    "kernelspec": {
      "display_name": "Python 3",
      "name": "python3"
    },
    "language_info": {
      "name": "python"
    },
    "accelerator": "GPU"
  },
  "nbformat": 4,
  "nbformat_minor": 0
}