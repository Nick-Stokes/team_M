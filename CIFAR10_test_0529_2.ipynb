{
  "cells": [
    {
      "cell_type": "markdown",
      "source": [
        "# ***Final Project***\n",
        "---\n",
        "\n",
        "In this project, you will develop a convolutional neural network (CNN) to perform classification, and test it out on the CIFAR-10 dataset.\n",
        "\n",
        "\n",
        "The given code is a simple implement for the CIFAR-10 classification.\n",
        "\n",
        "The goal of the final project is to check whether you understand important concepts for training CNN such as:\n",
        "\n",
        "*   Network architecture\n",
        "*   Optimization\n",
        "*   Loss function\n",
        "*   Data preprocessing\n",
        "*   Regularization\n",
        "*   ...\n",
        "\n",
        "Therefore, you can **modify the given code to improve the performance** of the network **except for the dataset (i.e. trainset and testset)**.\n",
        "\n",
        "You should **upload your code and your report** including an explaination of your code and what you have changed or added."
      ],
      "metadata": {
        "id": "8H2mplXJU1d6"
      }
    },
    {
      "cell_type": "code",
      "execution_count": null,
      "metadata": {
        "id": "Fr9zgCgCmdNq"
      },
      "outputs": [],
      "source": [
        "# AS usual, a bit of setup\n",
        "# If you need other libraries, you should import the libraries.\n",
        "\n",
        "import os, sys\n",
        "import torch\n",
        "from torch import nn\n",
        "from torch.nn import functional as F\n",
        "\n",
        "import torchvision\n",
        "import torchvision.transforms as transforms\n",
        "import torchvision.datasets as datasets\n",
        "\n",
        "import matplotlib.pyplot as plt\n",
        "import numpy as np"
      ]
    },
    {
      "cell_type": "code",
      "execution_count": null,
      "metadata": {
        "colab": {
          "base_uri": "https://localhost:8080/"
        },
        "id": "V9pg5nB1pXEO",
        "outputId": "3d249c72-e1fa-4bd4-c4fc-5c62beec4535"
      },
      "outputs": [
        {
          "output_type": "stream",
          "name": "stdout",
          "text": [
            "cuda\n"
          ]
        }
      ],
      "source": [
        "# Set the device\n",
        "device = 'cuda' if torch.cuda.is_available() else 'cpu'\n",
        "print(device)"
      ]
    },
    {
      "cell_type": "markdown",
      "source": [
        "# **Data Loader**\n",
        "\n",
        "You can load the CIFAR-10 dataset using the library `torchvision.datasets`\n",
        "\n",
        "The details of CIFAR-10 dataset can be found in https://www.cs.toronto.edu/~kriz/cifar.html\n",
        "\n",
        "`transforms_cifar10` is used to assemble several transforms for data preprossing."
      ],
      "metadata": {
        "id": "q-G1AJVsbqwc"
      }
    },
    {
      "cell_type": "code",
      "execution_count": null,
      "metadata": {
        "colab": {
          "base_uri": "https://localhost:8080/"
        },
        "id": "HOEFPBpcmmHU",
        "outputId": "159f2f40-9966-4374-c50c-5f6e4d7c9b9a"
      },
      "outputs": [
        {
          "output_type": "stream",
          "name": "stdout",
          "text": [
            "Downloading https://www.cs.toronto.edu/~kriz/cifar-10-python.tar.gz to ./data/cifar-10-python.tar.gz\n"
          ]
        },
        {
          "output_type": "stream",
          "name": "stderr",
          "text": [
            "100%|██████████| 170498071/170498071 [00:01<00:00, 100272926.43it/s]\n"
          ]
        },
        {
          "output_type": "stream",
          "name": "stdout",
          "text": [
            "Extracting ./data/cifar-10-python.tar.gz to ./data\n",
            "Files already downloaded and verified\n",
            "Files already downloaded and verified\n"
          ]
        }
      ],
      "source": [
        "import torch\n",
        "import torchvision.transforms as transforms\n",
        "import torchvision.datasets as datasets\n",
        "\n",
        "# Data augmentation and normalization for CIFAR-10\n",
        "transform_train = transforms.Compose([\n",
        "    transforms.RandomCrop(32, padding=4),  # Random crop with padding\n",
        "    transforms.RandomHorizontalFlip(),  # Random horizontal flip\n",
        "    transforms.ColorJitter(brightness=0.2, contrast=0.2, saturation=0.2, hue=0.2),  # Color jitter\n",
        "    transforms.ToTensor(),\n",
        "    transforms.Normalize((0.5, 0.5, 0.5), (0.5, 0.5, 0.5))\n",
        "])\n",
        "\n",
        "transform_test = transforms.Compose([\n",
        "    transforms.Resize((32, 32)),  # Fixed size\n",
        "    transforms.ToTensor(),\n",
        "    transforms.Normalize((0.5, 0.5, 0.5), (0.5, 0.5, 0.5))\n",
        "])\n",
        "\n",
        "# Train dataset with augmentation\n",
        "trainset = datasets.CIFAR10(root='./data', train=True, download=True, transform=transform_train)\n",
        "\n",
        "# Split trainset into training and validation sets\n",
        "train_size = int(0.8 * len(trainset))\n",
        "val_size = len(trainset) - train_size\n",
        "train_subset, val_subset = torch.utils.data.random_split(trainset, [train_size, val_size])\n",
        "\n",
        "# Validation dataset (using test transformations)\n",
        "valset = datasets.CIFAR10(root='./data', train=True, download=True, transform=transform_test)\n",
        "val_subset.dataset = valset  # Update transform for validation subset\n",
        "\n",
        "# DataLoaders\n",
        "trainloader = torch.utils.data.DataLoader(train_subset, batch_size=4, shuffle=True, num_workers=2)\n",
        "valloader = torch.utils.data.DataLoader(val_subset, batch_size=4, shuffle=False, num_workers=2)\n",
        "\n",
        "# Test dataset\n",
        "testset = datasets.CIFAR10(root='./data', train=False, download=True, transform=transform_test)\n",
        "testloader = torch.utils.data.DataLoader(testset, batch_size=4, shuffle=False, num_workers=2)\n",
        "\n",
        "# Classes of CIFAR-10 dataset\n",
        "classes = (\"plane\", \"car\", \"bird\", \"cat\", \"deer\", \"dog\", \"frog\", \"horse\", \"ship\", \"truck\")\n"
      ]
    },
    {
      "cell_type": "code",
      "execution_count": null,
      "metadata": {
        "colab": {
          "base_uri": "https://localhost:8080/",
          "height": 210
        },
        "id": "d7JdtMAzoCac",
        "outputId": "97f3f1d2-4e0e-4787-bbf7-4762093c13f1"
      },
      "outputs": [
        {
          "output_type": "stream",
          "name": "stdout",
          "text": [
            "  dog  bird horse  frog\n"
          ]
        },
        {
          "output_type": "display_data",
          "data": {
            "text/plain": [
              "<Figure size 640x480 with 1 Axes>"
            ],
            "image/png": "[encoded data removed]"
          },
          "metadata": {}
        }
      ],
      "source": [
        "# Examples of dataset\n",
        "\n",
        "def imshow(img):\n",
        "  img = img /2 + 0.5\n",
        "\n",
        "  npimg = img.numpy()\n",
        "  plt.imshow(np.transpose(npimg, (1, 2, 0)))\n",
        "\n",
        "dataiter = iter(trainloader)\n",
        "imgs, labels = next(dataiter)\n",
        "\n",
        "imshow(torchvision.utils.make_grid(imgs))\n",
        "print(' '.join('%5s' % classes[labels[j]] for j in range(4)))\n"
      ]
    },
    {
      "cell_type": "markdown",
      "source": [
        "# **Your own CNN**\n",
        "\n",
        "You can implement your own network using libraries such as `torch.nn`and `torch.nn.functional`.\n",
        "\n",
        "`SimpleNet` and `VGG11` are examples to help your understand the implementation of the network.\n",
        "\n",
        "So, you can modify the given codes or create another awesome neural network for CIFAR-10 classification."
      ],
      "metadata": {
        "id": "Y77itjthc5Xh"
      }
    },
    {
      "cell_type": "code",
      "execution_count": null,
      "metadata": {
        "id": "068wqyqdo_fc"
      },
      "outputs": [],
      "source": [
        "# Model\n",
        "\n",
        "class SimpleNet(nn.Module):\n",
        "    def __init__(self):\n",
        "        super(SimpleNet, self).__init__()\n",
        "        self.conv1 = nn.Conv2d(3, 32, 3, padding=1) # 필터 수와 커널 크기 증가\n",
        "        self.conv2 = nn.Conv2d(32, 64, 3, padding=1)\n",
        "        self.conv3 = nn.Conv2d(64, 128, 3, padding=1)\n",
        "        self.pool = nn.MaxPool2d(2, 2)\n",
        "\n",
        "        self.fc1 = nn.Linear(128 * 4 * 4, 512)\n",
        "        self.fc2 = nn.Linear(512, 256)\n",
        "        self.fc3 = nn.Linear(256, 10) #마지막은 무조건 10으로 끝나게 해야 함.\n",
        "\n",
        "    def forward(self, x):\n",
        "      # CNN layer이다.\n",
        "        x = self.pool(F.relu(self.conv1(x)))\n",
        "        x = self.pool(F.relu(self.conv2(x)))\n",
        "        x = self.pool(F.relu(self.conv3(x)))\n",
        "\n",
        "        # FCN layer이다.\n",
        "        x = x.view(-1, 128 * 4 * 4)\n",
        "        x = F.relu(self.fc1(x))\n",
        "        x = F.relu(self.fc2(x))\n",
        "        x = self.fc3(x)\n",
        "        return x\n",
        "\n",
        "\n",
        "net = SimpleNet().to(device)"
      ]
    },
    {
      "cell_type": "code",
      "source": [
        "!pip install torchsummary\n",
        "from torchsummary import summary\n",
        "\n",
        "summary(net, (3, 32, 32))"
      ],
      "metadata": {
        "colab": {
          "base_uri": "https://localhost:8080/"
        },
        "id": "QjHRVmAYDEmE",
        "outputId": "7a56d457-a2df-4679-e437-54f74edc1345"
      },
      "execution_count": null,
      "outputs": [
        {
          "output_type": "stream",
          "name": "stdout",
          "text": [
            "Requirement already satisfied: torchsummary in /usr/local/lib/python3.10/dist-packages (1.5.1)\n",
            "----------------------------------------------------------------\n",
            "        Layer (type)               Output Shape         Param #\n",
            "================================================================\n",
            "            Conv2d-1           [-1, 32, 32, 32]             896\n",
            "         MaxPool2d-2           [-1, 32, 16, 16]               0\n",
            "            Conv2d-3           [-1, 64, 16, 16]          18,496\n",
            "         MaxPool2d-4             [-1, 64, 8, 8]               0\n",
            "            Conv2d-5            [-1, 128, 8, 8]          73,856\n",
            "         MaxPool2d-6            [-1, 128, 4, 4]               0\n",
            "            Linear-7                  [-1, 512]       1,049,088\n",
            "            Linear-8                  [-1, 256]         131,328\n",
            "            Linear-9                   [-1, 10]           2,570\n",
            "================================================================\n",
            "Total params: 1,276,234\n",
            "Trainable params: 1,276,234\n",
            "Non-trainable params: 0\n",
            "----------------------------------------------------------------\n",
            "Input size (MB): 0.01\n",
            "Forward/backward pass size (MB): 0.55\n",
            "Params size (MB): 4.87\n",
            "Estimated Total Size (MB): 5.43\n",
            "----------------------------------------------------------------\n"
          ]
        }
      ]
    },
    {
      "cell_type": "markdown",
      "source": [
        "# **Loss function and optimizer**\n",
        "\n",
        "Set the **loss function and optimizer** for training CNN.\n",
        "You can modify the loss function or optimizer for better performance."
      ],
      "metadata": {
        "id": "SXLnGlLgdyZ2"
      }
    },
    {
      "cell_type": "code",
      "execution_count": null,
      "metadata": {
        "id": "oB0f6C2npeoj"
      },
      "outputs": [],
      "source": [
        "# Loss function and optimizer\n",
        "criterion = nn.CrossEntropyLoss()\n",
        "optimizer = torch.optim.Adam(net.parameters(), lr=0.001)\n",
        "scheduler = torch.optim.lr_scheduler.StepLR(optimizer, step_size=10, gamma=0.1) # Learning rate scheduling하는 거임. 이건 걍 step에 따라..."
      ]
    },
    {
      "cell_type": "markdown",
      "source": [
        "# **Train the network**\n",
        "\n",
        "Train your own network using the above loss function and optimizer."
      ],
      "metadata": {
        "id": "DInMRCnReWno"
      }
    },
    {
      "cell_type": "code",
      "execution_count": null,
      "metadata": {
        "colab": {
          "base_uri": "https://localhost:8080/"
        },
        "id": "2vvD0eNCpqxj",
        "outputId": "8f15e5dc-9675-4c5b-ca0f-d572f67a0a0f"
      },
      "outputs": [
        {
          "output_type": "stream",
          "name": "stdout",
          "text": [
            "[Epoch - 1, Iteration -  5000] Loss: 1.894\n",
            "[Epoch - 1, Iteration - 10000] Loss: 0.789\n",
            "[Epoch - 1] Train Loss: 1.736, Val Loss: 1.399\n",
            "[Epoch - 2, Iteration -  5000] Loss: 1.435\n",
            "[Epoch - 2, Iteration - 10000] Loss: 0.675\n",
            "[Epoch - 2] Train Loss: 1.393, Val Loss: 1.142\n",
            "[Epoch - 3, Iteration -  5000] Loss: 1.273\n",
            "[Epoch - 3, Iteration - 10000] Loss: 0.624\n",
            "[Epoch - 3] Train Loss: 1.260, Val Loss: 1.070\n",
            "[Epoch - 4, Iteration -  5000] Loss: 1.189\n",
            "[Epoch - 4, Iteration - 10000] Loss: 0.586\n",
            "[Epoch - 4] Train Loss: 1.180, Val Loss: 1.094\n",
            "[Epoch - 5, Iteration -  5000] Loss: 1.140\n",
            "[Epoch - 5, Iteration - 10000] Loss: 0.567\n",
            "[Epoch - 5] Train Loss: 1.137, Val Loss: 1.030\n",
            "[Epoch - 6, Iteration -  5000] Loss: 1.104\n",
            "[Epoch - 6, Iteration - 10000] Loss: 0.539\n",
            "[Epoch - 6] Train Loss: 1.091, Val Loss: 0.944\n",
            "[Epoch - 7, Iteration -  5000] Loss: 1.073\n",
            "[Epoch - 7, Iteration - 10000] Loss: 0.527\n",
            "[Epoch - 7] Train Loss: 1.064, Val Loss: 0.952\n",
            "[Epoch - 8, Iteration -  5000] Loss: 1.030\n",
            "[Epoch - 8, Iteration - 10000] Loss: 0.518\n",
            "[Epoch - 8] Train Loss: 1.034, Val Loss: 1.078\n",
            "[Epoch - 9, Iteration -  5000] Loss: 1.028\n",
            "[Epoch - 9, Iteration - 10000] Loss: 0.513\n",
            "[Epoch - 9] Train Loss: 1.028, Val Loss: 0.859\n",
            "[Epoch - 10, Iteration -  5000] Loss: 0.991\n",
            "[Epoch - 10, Iteration - 10000] Loss: 0.498\n",
            "[Epoch - 10] Train Loss: 0.993, Val Loss: 0.940\n",
            "[Epoch - 11, Iteration -  5000] Loss: 0.868\n",
            "[Epoch - 11, Iteration - 10000] Loss: 0.415\n",
            "[Epoch - 11] Train Loss: 0.849, Val Loss: 0.763\n",
            "[Epoch - 12, Iteration -  5000] Loss: 0.810\n",
            "[Epoch - 12, Iteration - 10000] Loss: 0.406\n",
            "[Epoch - 12] Train Loss: 0.811, Val Loss: 0.746\n",
            "[Epoch - 13, Iteration -  5000] Loss: 0.811\n",
            "[Epoch - 13, Iteration - 10000] Loss: 0.394\n",
            "[Epoch - 13] Train Loss: 0.800, Val Loss: 0.738\n",
            "[Epoch - 14, Iteration -  5000] Loss: 0.789\n",
            "[Epoch - 14, Iteration - 10000] Loss: 0.396\n",
            "[Epoch - 14] Train Loss: 0.790, Val Loss: 0.730\n",
            "[Epoch - 15, Iteration -  5000] Loss: 0.779\n",
            "[Epoch - 15, Iteration - 10000] Loss: 0.388\n",
            "[Epoch - 15] Train Loss: 0.778, Val Loss: 0.726\n",
            "[Epoch - 16, Iteration -  5000] Loss: 0.764\n",
            "[Epoch - 16, Iteration - 10000] Loss: 0.387\n",
            "[Epoch - 16] Train Loss: 0.769, Val Loss: 0.725\n",
            "[Epoch - 17, Iteration -  5000] Loss: 0.755\n",
            "[Epoch - 17, Iteration - 10000] Loss: 0.379\n",
            "[Epoch - 17] Train Loss: 0.756, Val Loss: 0.717\n",
            "[Epoch - 18, Iteration -  5000] Loss: 0.763\n",
            "[Epoch - 18, Iteration - 10000] Loss: 0.383\n",
            "[Epoch - 18] Train Loss: 0.765, Val Loss: 0.710\n",
            "[Epoch - 19, Iteration -  5000] Loss: 0.751\n",
            "[Epoch - 19, Iteration - 10000] Loss: 0.373\n",
            "[Epoch - 19] Train Loss: 0.749, Val Loss: 0.703\n",
            "[Epoch - 20, Iteration -  5000] Loss: 0.743\n",
            "[Epoch - 20, Iteration - 10000] Loss: 0.369\n",
            "[Epoch - 20] Train Loss: 0.741, Val Loss: 0.703\n",
            "[Epoch - 21, Iteration -  5000] Loss: 0.730\n",
            "[Epoch - 21, Iteration - 10000] Loss: 0.365\n",
            "[Epoch - 21] Train Loss: 0.730, Val Loss: 0.699\n",
            "[Epoch - 22, Iteration -  5000] Loss: 0.726\n",
            "[Epoch - 22, Iteration - 10000] Loss: 0.361\n",
            "[Epoch - 22] Train Loss: 0.724, Val Loss: 0.697\n",
            "[Epoch - 23, Iteration -  5000] Loss: 0.721\n",
            "[Epoch - 23, Iteration - 10000] Loss: 0.364\n",
            "[Epoch - 23] Train Loss: 0.724, Val Loss: 0.696\n",
            "[Epoch - 24, Iteration -  5000] Loss: 0.725\n",
            "[Epoch - 24, Iteration - 10000] Loss: 0.357\n",
            "[Epoch - 24] Train Loss: 0.720, Val Loss: 0.694\n",
            "[Epoch - 25, Iteration -  5000] Loss: 0.717\n",
            "[Epoch - 25, Iteration - 10000] Loss: 0.362\n",
            "[Epoch - 25] Train Loss: 0.720, Val Loss: 0.695\n",
            "[Epoch - 26, Iteration -  5000] Loss: 0.707\n",
            "[Epoch - 26, Iteration - 10000] Loss: 0.366\n",
            "[Epoch - 26] Train Loss: 0.719, Val Loss: 0.693\n",
            "[Epoch - 27, Iteration -  5000] Loss: 0.718\n",
            "[Epoch - 27, Iteration - 10000] Loss: 0.361\n",
            "[Epoch - 27] Train Loss: 0.720, Val Loss: 0.692\n",
            "[Epoch - 28, Iteration -  5000] Loss: 0.707\n",
            "[Epoch - 28, Iteration - 10000] Loss: 0.357\n",
            "[Epoch - 28] Train Loss: 0.710, Val Loss: 0.694\n",
            "[Epoch - 29, Iteration -  5000] Loss: 0.715\n",
            "[Epoch - 29, Iteration - 10000] Loss: 0.359\n",
            "[Epoch - 29] Train Loss: 0.717, Val Loss: 0.691\n",
            "[Epoch - 30, Iteration -  5000] Loss: 0.710\n",
            "[Epoch - 30, Iteration - 10000] Loss: 0.363\n",
            "[Epoch - 30] Train Loss: 0.719, Val Loss: 0.689\n",
            "[Epoch - 31, Iteration -  5000] Loss: 0.720\n",
            "[Epoch - 31, Iteration - 10000] Loss: 0.356\n",
            "[Epoch - 31] Train Loss: 0.716, Val Loss: 0.689\n",
            "[Epoch - 32, Iteration -  5000] Loss: 0.717\n",
            "[Epoch - 32, Iteration - 10000] Loss: 0.352\n",
            "[Epoch - 32] Train Loss: 0.711, Val Loss: 0.690\n",
            "[Epoch - 33, Iteration -  5000] Loss: 0.712\n",
            "[Epoch - 33, Iteration - 10000] Loss: 0.353\n",
            "[Epoch - 33] Train Loss: 0.709, Val Loss: 0.690\n",
            "[Epoch - 34, Iteration -  5000] Loss: 0.708\n",
            "[Epoch - 34, Iteration - 10000] Loss: 0.356\n",
            "[Epoch - 34] Train Loss: 0.710, Val Loss: 0.690\n",
            "[Epoch - 35, Iteration -  5000] Loss: 0.713\n",
            "[Epoch - 35, Iteration - 10000] Loss: 0.354\n",
            "[Epoch - 35] Train Loss: 0.710, Val Loss: 0.690\n",
            "[Epoch - 36, Iteration -  5000] Loss: 0.713\n",
            "[Epoch - 36, Iteration - 10000] Loss: 0.352\n",
            "[Epoch - 36] Train Loss: 0.708, Val Loss: 0.689\n",
            "[Epoch - 37, Iteration -  5000] Loss: 0.715\n",
            "[Epoch - 37, Iteration - 10000] Loss: 0.355\n",
            "[Epoch - 37] Train Loss: 0.712, Val Loss: 0.689\n",
            "[Epoch - 38, Iteration -  5000] Loss: 0.711\n",
            "[Epoch - 38, Iteration - 10000] Loss: 0.357\n",
            "[Epoch - 38] Train Loss: 0.713, Val Loss: 0.689\n",
            "[Epoch - 39, Iteration -  5000] Loss: 0.708\n",
            "[Epoch - 39, Iteration - 10000] Loss: 0.357\n",
            "[Epoch - 39] Train Loss: 0.711, Val Loss: 0.689\n",
            "[Epoch - 40, Iteration -  5000] Loss: 0.717\n",
            "[Epoch - 40, Iteration - 10000] Loss: 0.356\n",
            "[Epoch - 40] Train Loss: 0.714, Val Loss: 0.689\n",
            "[Epoch - 41, Iteration -  5000] Loss: 0.715\n",
            "[Epoch - 41, Iteration - 10000] Loss: 0.353\n",
            "[Epoch - 41] Train Loss: 0.710, Val Loss: 0.689\n",
            "[Epoch - 42, Iteration -  5000] Loss: 0.708\n",
            "[Epoch - 42, Iteration - 10000] Loss: 0.354\n",
            "[Epoch - 42] Train Loss: 0.708, Val Loss: 0.689\n",
            "[Epoch - 43, Iteration -  5000] Loss: 0.724\n",
            "[Epoch - 43, Iteration - 10000] Loss: 0.351\n",
            "[Epoch - 43] Train Loss: 0.712, Val Loss: 0.689\n",
            "[Epoch - 44, Iteration -  5000] Loss: 0.702\n",
            "[Epoch - 44, Iteration - 10000] Loss: 0.355\n",
            "[Epoch - 44] Train Loss: 0.706, Val Loss: 0.689\n",
            "[Epoch - 45, Iteration -  5000] Loss: 0.701\n",
            "[Epoch - 45, Iteration - 10000] Loss: 0.354\n",
            "[Epoch - 45] Train Loss: 0.704, Val Loss: 0.689\n",
            "[Epoch - 46, Iteration -  5000] Loss: 0.704\n",
            "[Epoch - 46, Iteration - 10000] Loss: 0.359\n",
            "[Epoch - 46] Train Loss: 0.711, Val Loss: 0.689\n",
            "[Epoch - 47, Iteration -  5000] Loss: 0.712\n",
            "[Epoch - 47, Iteration - 10000] Loss: 0.356\n",
            "[Epoch - 47] Train Loss: 0.712, Val Loss: 0.689\n",
            "[Epoch - 48, Iteration -  5000] Loss: 0.706\n",
            "[Epoch - 48, Iteration - 10000] Loss: 0.354\n",
            "[Epoch - 48] Train Loss: 0.707, Val Loss: 0.689\n",
            "[Epoch - 49, Iteration -  5000] Loss: 0.703\n",
            "[Epoch - 49, Iteration - 10000] Loss: 0.357\n",
            "[Epoch - 49] Train Loss: 0.708, Val Loss: 0.689\n",
            "[Epoch - 50, Iteration -  5000] Loss: 0.719\n",
            "[Epoch - 50, Iteration - 10000] Loss: 0.355\n",
            "[Epoch - 50] Train Loss: 0.715, Val Loss: 0.689\n",
            "[Epoch - 51, Iteration -  5000] Loss: 0.710\n",
            "[Epoch - 51, Iteration - 10000] Loss: 0.354\n",
            "[Epoch - 51] Train Loss: 0.709, Val Loss: 0.689\n",
            "[Epoch - 52, Iteration -  5000] Loss: 0.709\n",
            "[Epoch - 52, Iteration - 10000] Loss: 0.357\n",
            "[Epoch - 52] Train Loss: 0.711, Val Loss: 0.689\n",
            "[Epoch - 53, Iteration -  5000] Loss: 0.708\n",
            "[Epoch - 53, Iteration - 10000] Loss: 0.356\n",
            "[Epoch - 53] Train Loss: 0.710, Val Loss: 0.689\n",
            "[Epoch - 54, Iteration -  5000] Loss: 0.709\n",
            "[Epoch - 54, Iteration - 10000] Loss: 0.356\n",
            "[Epoch - 54] Train Loss: 0.711, Val Loss: 0.689\n",
            "[Epoch - 55, Iteration -  5000] Loss: 0.711\n",
            "[Epoch - 55, Iteration - 10000] Loss: 0.356\n",
            "[Epoch - 55] Train Loss: 0.712, Val Loss: 0.689\n",
            "[Epoch - 56, Iteration -  5000] Loss: 0.704\n",
            "[Epoch - 56, Iteration - 10000] Loss: 0.360\n",
            "[Epoch - 56] Train Loss: 0.712, Val Loss: 0.689\n",
            "[Epoch - 57, Iteration -  5000] Loss: 0.711\n",
            "[Epoch - 57, Iteration - 10000] Loss: 0.363\n",
            "[Epoch - 57] Train Loss: 0.718, Val Loss: 0.689\n",
            "[Epoch - 58, Iteration -  5000] Loss: 0.712\n",
            "[Epoch - 58, Iteration - 10000] Loss: 0.354\n",
            "[Epoch - 58] Train Loss: 0.710, Val Loss: 0.689\n",
            "[Epoch - 59, Iteration -  5000] Loss: 0.727\n",
            "[Epoch - 59, Iteration - 10000] Loss: 0.352\n",
            "[Epoch - 59] Train Loss: 0.716, Val Loss: 0.689\n",
            "[Epoch - 60, Iteration -  5000] Loss: 0.721\n",
            "[Epoch - 60, Iteration - 10000] Loss: 0.352\n",
            "[Epoch - 60] Train Loss: 0.713, Val Loss: 0.689\n",
            "[Epoch - 61, Iteration -  5000] Loss: 0.703\n",
            "[Epoch - 61, Iteration - 10000] Loss: 0.356\n",
            "[Epoch - 61] Train Loss: 0.707, Val Loss: 0.689\n",
            "[Epoch - 62, Iteration -  5000] Loss: 0.715\n",
            "[Epoch - 62, Iteration - 10000] Loss: 0.355\n",
            "[Epoch - 62] Train Loss: 0.713, Val Loss: 0.689\n",
            "[Epoch - 63, Iteration -  5000] Loss: 0.715\n",
            "[Epoch - 63, Iteration - 10000] Loss: 0.356\n",
            "[Epoch - 63] Train Loss: 0.713, Val Loss: 0.689\n",
            "[Epoch - 64, Iteration -  5000] Loss: 0.714\n",
            "[Epoch - 64, Iteration - 10000] Loss: 0.358\n",
            "[Epoch - 64] Train Loss: 0.715, Val Loss: 0.689\n",
            "[Epoch - 65, Iteration -  5000] Loss: 0.706\n",
            "[Epoch - 65, Iteration - 10000] Loss: 0.357\n",
            "[Epoch - 65] Train Loss: 0.710, Val Loss: 0.689\n",
            "[Epoch - 66, Iteration -  5000] Loss: 0.714\n",
            "[Epoch - 66, Iteration - 10000] Loss: 0.356\n",
            "[Epoch - 66] Train Loss: 0.713, Val Loss: 0.689\n",
            "[Epoch - 67, Iteration -  5000] Loss: 0.694\n",
            "[Epoch - 67, Iteration - 10000] Loss: 0.360\n",
            "[Epoch - 67] Train Loss: 0.707, Val Loss: 0.689\n",
            "[Epoch - 68, Iteration -  5000] Loss: 0.708\n",
            "[Epoch - 68, Iteration - 10000] Loss: 0.356\n",
            "[Epoch - 68] Train Loss: 0.710, Val Loss: 0.689\n",
            "[Epoch - 69, Iteration -  5000] Loss: 0.709\n",
            "[Epoch - 69, Iteration - 10000] Loss: 0.354\n",
            "[Epoch - 69] Train Loss: 0.709, Val Loss: 0.689\n",
            "[Epoch - 70, Iteration -  5000] Loss: 0.711\n",
            "[Epoch - 70, Iteration - 10000] Loss: 0.354\n",
            "[Epoch - 70] Train Loss: 0.710, Val Loss: 0.689\n",
            "[Epoch - 71, Iteration -  5000] Loss: 0.705\n",
            "[Epoch - 71, Iteration - 10000] Loss: 0.357\n",
            "[Epoch - 71] Train Loss: 0.710, Val Loss: 0.689\n",
            "[Epoch - 72, Iteration -  5000] Loss: 0.713\n",
            "[Epoch - 72, Iteration - 10000] Loss: 0.356\n",
            "[Epoch - 72] Train Loss: 0.712, Val Loss: 0.689\n",
            "[Epoch - 73, Iteration -  5000] Loss: 0.721\n",
            "[Epoch - 73, Iteration - 10000] Loss: 0.354\n",
            "[Epoch - 73] Train Loss: 0.714, Val Loss: 0.689\n",
            "[Epoch - 74, Iteration -  5000] Loss: 0.706\n",
            "[Epoch - 74, Iteration - 10000] Loss: 0.358\n",
            "[Epoch - 74] Train Loss: 0.712, Val Loss: 0.689\n",
            "[Epoch - 75, Iteration -  5000] Loss: 0.709\n",
            "[Epoch - 75, Iteration - 10000] Loss: 0.359\n",
            "[Epoch - 75] Train Loss: 0.713, Val Loss: 0.689\n",
            "[Epoch - 76, Iteration -  5000] Loss: 0.718\n",
            "[Epoch - 76, Iteration - 10000] Loss: 0.352\n",
            "[Epoch - 76] Train Loss: 0.711, Val Loss: 0.689\n",
            "[Epoch - 77, Iteration -  5000] Loss: 0.708\n",
            "[Epoch - 77, Iteration - 10000] Loss: 0.357\n",
            "[Epoch - 77] Train Loss: 0.712, Val Loss: 0.689\n",
            "[Epoch - 78, Iteration -  5000] Loss: 0.709\n",
            "[Epoch - 78, Iteration - 10000] Loss: 0.356\n",
            "[Epoch - 78] Train Loss: 0.710, Val Loss: 0.689\n",
            "[Epoch - 79, Iteration -  5000] Loss: 0.714\n",
            "[Epoch - 79, Iteration - 10000] Loss: 0.351\n",
            "[Epoch - 79] Train Loss: 0.708, Val Loss: 0.689\n",
            "[Epoch - 80, Iteration -  5000] Loss: 0.712\n",
            "[Epoch - 80, Iteration - 10000] Loss: 0.355\n",
            "[Epoch - 80] Train Loss: 0.710, Val Loss: 0.689\n",
            "[Epoch - 81, Iteration -  5000] Loss: 0.703\n",
            "[Epoch - 81, Iteration - 10000] Loss: 0.362\n",
            "[Epoch - 81] Train Loss: 0.713, Val Loss: 0.689\n",
            "[Epoch - 82, Iteration -  5000] Loss: 0.704\n",
            "[Epoch - 82, Iteration - 10000] Loss: 0.359\n",
            "[Epoch - 82] Train Loss: 0.711, Val Loss: 0.689\n",
            "[Epoch - 83, Iteration -  5000] Loss: 0.714\n",
            "[Epoch - 83, Iteration - 10000] Loss: 0.353\n",
            "[Epoch - 83] Train Loss: 0.710, Val Loss: 0.689\n",
            "[Epoch - 84, Iteration -  5000] Loss: 0.711\n",
            "[Epoch - 84, Iteration - 10000] Loss: 0.357\n",
            "[Epoch - 84] Train Loss: 0.713, Val Loss: 0.689\n",
            "[Epoch - 85, Iteration -  5000] Loss: 0.723\n",
            "[Epoch - 85, Iteration - 10000] Loss: 0.348\n",
            "[Epoch - 85] Train Loss: 0.709, Val Loss: 0.689\n",
            "[Epoch - 86, Iteration -  5000] Loss: 0.712\n",
            "[Epoch - 86, Iteration - 10000] Loss: 0.354\n",
            "[Epoch - 86] Train Loss: 0.710, Val Loss: 0.689\n",
            "[Epoch - 87, Iteration -  5000] Loss: 0.715\n",
            "[Epoch - 87, Iteration - 10000] Loss: 0.357\n",
            "[Epoch - 87] Train Loss: 0.714, Val Loss: 0.689\n",
            "[Epoch - 88, Iteration -  5000] Loss: 0.705\n",
            "[Epoch - 88, Iteration - 10000] Loss: 0.359\n",
            "[Epoch - 88] Train Loss: 0.712, Val Loss: 0.689\n",
            "[Epoch - 89, Iteration -  5000] Loss: 0.715\n",
            "[Epoch - 89, Iteration - 10000] Loss: 0.358\n",
            "[Epoch - 89] Train Loss: 0.715, Val Loss: 0.689\n",
            "[Epoch - 90, Iteration -  5000] Loss: 0.711\n",
            "[Epoch - 90, Iteration - 10000] Loss: 0.357\n",
            "[Epoch - 90] Train Loss: 0.712, Val Loss: 0.689\n",
            "[Epoch - 91, Iteration -  5000] Loss: 0.705\n",
            "[Epoch - 91, Iteration - 10000] Loss: 0.356\n",
            "[Epoch - 91] Train Loss: 0.709, Val Loss: 0.689\n",
            "[Epoch - 92, Iteration -  5000] Loss: 0.715\n",
            "[Epoch - 92, Iteration - 10000] Loss: 0.352\n",
            "[Epoch - 92] Train Loss: 0.709, Val Loss: 0.689\n",
            "[Epoch - 93, Iteration -  5000] Loss: 0.705\n",
            "[Epoch - 93, Iteration - 10000] Loss: 0.359\n",
            "[Epoch - 93] Train Loss: 0.712, Val Loss: 0.689\n",
            "[Epoch - 94, Iteration -  5000] Loss: 0.712\n",
            "[Epoch - 94, Iteration - 10000] Loss: 0.356\n",
            "[Epoch - 94] Train Loss: 0.712, Val Loss: 0.689\n",
            "[Epoch - 95, Iteration -  5000] Loss: 0.706\n",
            "[Epoch - 95, Iteration - 10000] Loss: 0.356\n",
            "[Epoch - 95] Train Loss: 0.709, Val Loss: 0.689\n",
            "[Epoch - 96, Iteration -  5000] Loss: 0.707\n",
            "[Epoch - 96, Iteration - 10000] Loss: 0.355\n",
            "[Epoch - 96] Train Loss: 0.709, Val Loss: 0.689\n",
            "[Epoch - 97, Iteration -  5000] Loss: 0.720\n",
            "[Epoch - 97, Iteration - 10000] Loss: 0.349\n",
            "[Epoch - 97] Train Loss: 0.709, Val Loss: 0.689\n",
            "[Epoch - 98, Iteration -  5000] Loss: 0.709\n",
            "[Epoch - 98, Iteration - 10000] Loss: 0.358\n",
            "[Epoch - 98] Train Loss: 0.712, Val Loss: 0.689\n",
            "[Epoch - 99, Iteration -  5000] Loss: 0.718\n",
            "[Epoch - 99, Iteration - 10000] Loss: 0.357\n",
            "[Epoch - 99] Train Loss: 0.716, Val Loss: 0.689\n",
            "[Epoch - 100, Iteration -  5000] Loss: 0.710\n",
            "[Epoch - 100, Iteration - 10000] Loss: 0.355\n",
            "[Epoch - 100] Train Loss: 0.710, Val Loss: 0.689\n",
            "Finished Training\n"
          ]
        }
      ],
      "source": [
        "import matplotlib.pyplot as plt\n",
        "\n",
        "# Set the number of epochs\n",
        "epochs = 100\n",
        "\n",
        "# Arrays to store training and validation losses\n",
        "train_losses = []\n",
        "val_losses = []\n",
        "\n",
        "for epoch in range(epochs):\n",
        "    # Training phase\n",
        "    loss_tmp = 0.0\n",
        "    epoch_loss = 0.0\n",
        "    net.train()  # Set the model to training mode\n",
        "    for i, data in enumerate(trainloader, start=0):\n",
        "        # Load the data\n",
        "        inputs, labels = data\n",
        "        inputs = inputs.to(device)\n",
        "        labels = labels.to(device)\n",
        "\n",
        "        # Estimate the output using the network\n",
        "        outputs = net(inputs)\n",
        "\n",
        "        # Calculate the loss between the output of the network and label\n",
        "        loss = criterion(outputs, labels)\n",
        "\n",
        "        # Optimize the network\n",
        "        optimizer.zero_grad()\n",
        "        loss.backward()\n",
        "        optimizer.step()\n",
        "\n",
        "        loss_tmp += loss.item()\n",
        "        epoch_loss += loss.item()\n",
        "\n",
        "        if i % 5000 == 4999:  # Print loss every 5000 mini-batches\n",
        "            print('[Epoch - %d, Iteration - %5d] Loss: %.3f' %\n",
        "                  (epoch + 1, i + 1, loss_tmp / (i + 1)))\n",
        "            loss_tmp = 0.0\n",
        "\n",
        "    # Calculate the average training loss for the epoch\n",
        "    avg_train_loss = epoch_loss / (i + 1)\n",
        "    train_losses.append(avg_train_loss)\n",
        "\n",
        "    # Validation phase\n",
        "    val_loss = 0.0\n",
        "    net.eval()  # Set the model to evaluation mode\n",
        "    with torch.no_grad():\n",
        "        for data in valloader:\n",
        "            inputs, labels = data\n",
        "            inputs = inputs.to(device)\n",
        "            labels = labels.to(device)\n",
        "\n",
        "            outputs = net(inputs)\n",
        "            loss = criterion(outputs, labels)\n",
        "            val_loss += loss.item()\n",
        "\n",
        "    avg_val_loss = val_loss / len(valloader)\n",
        "    val_losses.append(avg_val_loss)\n",
        "\n",
        "    # Update the learning rate according to the learning rate scheduler\n",
        "    scheduler.step()\n",
        "\n",
        "    # Print the epoch loss\n",
        "    print('[Epoch - %d] Train Loss: %.3f, Val Loss: %.3f' % (epoch + 1, avg_train_loss, avg_val_loss))\n",
        "\n",
        "print('Finished Training')\n",
        "\n"
      ]
    },
    {
      "cell_type": "code",
      "source": [
        "# Plotting training and validation loss\n",
        "plt.figure(figsize=(10, 5))\n",
        "plt.plot(range(1, epochs + 1), train_losses, label='Training Loss')\n",
        "plt.plot(range(1, epochs + 1), val_losses, label='Validation Loss')\n",
        "plt.xlabel('Epoch')\n",
        "plt.ylabel('Loss')\n",
        "plt.title('Training and Validation Loss')\n",
        "plt.legend()\n",
        "plt.show()\n"
      ],
      "metadata": {
        "colab": {
          "base_uri": "https://localhost:8080/",
          "height": 487
        },
        "id": "KIpep9u_D6kv",
        "outputId": "e1ba017e-00bb-4b3d-af2c-99c646847676"
      },
      "execution_count": null,
      "outputs": [
        {
          "output_type": "display_data",
          "data": {
            "text/plain": [
              "<Figure size 1000x500 with 1 Axes>"
            ],
            "image/png": "[encoded data removed]"
          },
          "metadata": {}
        }
      ]
    },
    {
      "cell_type": "markdown",
      "source": [
        "# **Test the network**\n",
        "\n",
        "Test the trained network using the testset.\n",
        "\n",
        "Accuracy of the network on the 10,000 test images is the final accuracy of your network.\n",
        "\n",
        "The closer the accuray is to 100%, the better the network classifies the input image."
      ],
      "metadata": {
        "id": "CgDA6_LlfNhE"
      }
    },
    {
      "cell_type": "code",
      "execution_count": null,
      "metadata": {
        "colab": {
          "base_uri": "https://localhost:8080/",
          "height": 228
        },
        "id": "fNfptwqLqpdA",
        "outputId": "e09013b3-0a73-4fb7-f634-a04441a978a6"
      },
      "outputs": [
        {
          "output_type": "stream",
          "name": "stdout",
          "text": [
            "GroundTruth:    cat  ship  ship plane\n",
            "Predicted:    cat  ship  ship  ship\n"
          ]
        },
        {
          "output_type": "display_data",
          "data": {
            "text/plain": [
              "<Figure size 640x480 with 1 Axes>"
            ],
            "image/png": "[encoded data removed]"
          },
          "metadata": {}
        }
      ],
      "source": [
        "# Test the trained model with sample\n",
        "\n",
        "dataiter_test = iter(testloader)\n",
        "img_test, labels_test = next(dataiter_test)\n",
        "\n",
        "imshow(torchvision.utils.make_grid(img_test))\n",
        "print('GroundTruth: ', ' '.join('%5s' % classes[labels_test[j]] for j in range(4)))\n",
        "\n",
        "img_test = img_test.to(device)\n",
        "labels_test = labels_test.to(device)\n",
        "\n",
        "# Prediction\n",
        "outputs_test = net(img_test)\n",
        "_, predicted = torch.max(outputs_test.data, 1)\n",
        "print('Predicted: ', ' '.join('%5s' % classes[predicted[j]] for j in range(4)))"
      ]
    },
    {
      "cell_type": "code",
      "execution_count": null,
      "metadata": {
        "colab": {
          "base_uri": "https://localhost:8080/"
        },
        "id": "DNrXRT1NrJft",
        "outputId": "3a79f68f-0544-4ef7-a5a8-42d8e11324e9"
      },
      "outputs": [
        {
          "output_type": "stream",
          "name": "stdout",
          "text": [
            "Accuracy of the network on the 10,000 test images: 75 %\n"
          ]
        }
      ],
      "source": [
        "# Test the trained model with overall test dataset\n",
        "\n",
        "correct = 0\n",
        "total = 0\n",
        "for data in testloader:\n",
        "    # Load the data\n",
        "    inputs_test, labels_test = data\n",
        "    inputs_test = inputs_test.to(device)\n",
        "    labels_test = labels_test.to(device)\n",
        "\n",
        "    # Estimate the output using the trained network\n",
        "    outputs_test = net(inputs_test)\n",
        "    _, predicted = torch.max(outputs_test.data, 1)\n",
        "\n",
        "    # Calculate the accuracy\n",
        "    total += labels_test.size(0)\n",
        "    correct += (predicted == labels_test).sum()\n",
        "\n",
        "# Final accuracy\n",
        "print('Accuracy of the network on the 10,000 test images: %d %%' % (100 * correct / total))\n"
      ]
    },
    {
      "cell_type": "code",
      "source": [],
      "metadata": {
        "id": "zmTKB2vLqQwy"
      },
      "execution_count": null,
      "outputs": []
    }
  ],
  "metadata": {
    "colab": {
      "provenance": [],
      "gpuType": "T4"
    },
    "gpuClass": "standard",
    "kernelspec": {
      "display_name": "Python 3",
      "name": "python3"
    },
    "language_info": {
      "name": "python"
    },
    "accelerator": "GPU"
  },
  "nbformat": 4,
  "nbformat_minor": 0
}