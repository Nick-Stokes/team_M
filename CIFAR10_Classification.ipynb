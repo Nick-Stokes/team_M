{
  "cells": [
    {
      "cell_type": "markdown",
      "source": [
        "# ***Final Project***\n",
        "---\n",
        "\n",
        "In this project, you will develop a convolutional neural network (CNN) to perform classification, and test it out on the CIFAR-10 dataset.\n",
        "\n",
        "\n",
        "The given code is a simple implement for the CIFAR-10 classification.\n",
        "\n",
        "The goal of the final project is to check whether you understand important concepts for training CNN such as:\n",
        "\n",
        "*   Network architecture\n",
        "*   Optimization\n",
        "*   Loss function\n",
        "*   Data preprocessing\n",
        "*   Regularization\n",
        "*   ...\n",
        "\n",
        "Therefore, you can **modify the given code to improve the performance** of the network **except for the dataset (i.e. trainset and testset)**.\n",
        "\n",
        "You should **upload your code and your report** including an explaination of your code and what you have changed or added."
      ],
      "metadata": {
        "id": "8H2mplXJU1d6"
      }
    },
    {
      "cell_type": "code",
      "execution_count": null,
      "metadata": {
        "id": "Fr9zgCgCmdNq"
      },
      "outputs": [],
      "source": [
        "# AS usual, a bit of setup\n",
        "# If you need other libraries, you should import the libraries.\n",
        "\n",
        "import os, sys\n",
        "import torch\n",
        "from torch import nn\n",
        "from torch.nn import functional as F\n",
        "\n",
        "import torchvision\n",
        "import torchvision.transforms as transforms\n",
        "import torchvision.datasets as datasets\n",
        "\n",
        "import matplotlib.pyplot as plt\n",
        "import numpy as np"
      ]
    },
    {
      "cell_type": "code",
      "execution_count": null,
      "metadata": {
        "colab": {
          "base_uri": "https://localhost:8080/"
        },
        "id": "V9pg5nB1pXEO",
        "outputId": "f91976dd-c7cc-4fae-ae7f-61ec75f52a0c"
      },
      "outputs": [
        {
          "output_type": "stream",
          "name": "stdout",
          "text": [
            "cuda\n"
          ]
        }
      ],
      "source": [
        "# Set the device\n",
        "device = 'cuda' if torch.cuda.is_available() else 'cpu'\n",
        "print(device)"
      ]
    },
    {
      "cell_type": "markdown",
      "source": [
        "# **Data Loader**\n",
        "\n",
        "You can load the CIFAR-10 dataset using the library `torchvision.datasets`\n",
        "\n",
        "The details of CIFAR-10 dataset can be found in https://www.cs.toronto.edu/~kriz/cifar.html\n",
        "\n",
        "`transforms_cifar10` is used to assemble several transforms for data preprossing."
      ],
      "metadata": {
        "id": "q-G1AJVsbqwc"
      }
    },
    {
      "cell_type": "code",
      "execution_count": null,
      "metadata": {
        "colab": {
          "base_uri": "https://localhost:8080/"
        },
        "id": "HOEFPBpcmmHU",
        "outputId": "5316b49f-d7da-451a-9a63-b67cb5bb7dac"
      },
      "outputs": [
        {
          "output_type": "stream",
          "name": "stdout",
          "text": [
            "Files already downloaded and verified\n",
            "Files already downloaded and verified\n"
          ]
        }
      ],
      "source": [
        "import torch\n",
        "import torchvision.transforms as transforms\n",
        "import torchvision.datasets as datasets\n",
        "import torch.utils.data\n",
        "\n",
        "# Data transformation\n",
        "transforms_cifar10 = transforms.Compose([\n",
        "    transforms.Resize((32, 32)),  # 고정\n",
        "    # 여기에 transforms 함수 추가 가능. 예: transforms.RandomHorizontalFlip()\n",
        "    transforms.ToTensor(),  # 고정\n",
        "    transforms.Normalize((0.5, 0.5, 0.5), (0.5, 0.5, 0.5))  # 변경 가능\n",
        "])\n",
        "\n",
        "# Train dataset\n",
        "trainset = datasets.CIFAR10(root='./data', train=True, download=True, transform=transforms_cifar10)\n",
        "\n",
        "# Split trainset into training and validation sets\n",
        "train_size = int(0.8 * len(trainset))\n",
        "val_size = len(trainset) - train_size\n",
        "train_subset, val_subset = torch.utils.data.random_split(trainset, [train_size, val_size])\n",
        "\n",
        "# DataLoaders\n",
        "trainloader = torch.utils.data.DataLoader(train_subset, batch_size=4, shuffle=True, num_workers=2)\n",
        "valloader = torch.utils.data.DataLoader(val_subset, batch_size=4, shuffle=False, num_workers=2)\n",
        "\n",
        "# Test dataset\n",
        "testset = datasets.CIFAR10(root='./data', train=False, download=True, transform=transforms_cifar10)\n",
        "testloader = torch.utils.data.DataLoader(testset, batch_size=4, shuffle=False, num_workers=2)\n",
        "\n",
        "# Classes of CIFAR-10 dataset\n",
        "classes = (\"plane\", \"car\", \"bird\", \"cat\", \"deer\", \"dog\", \"frog\", \"horse\", \"ship\", \"truck\")\n"
      ]
    },
    {
      "cell_type": "code",
      "execution_count": null,
      "metadata": {
        "colab": {
          "base_uri": "https://localhost:8080/",
          "height": 211
        },
        "id": "d7JdtMAzoCac",
        "outputId": "10db053a-673d-49ca-a99d-65776f6ab848"
      },
      "outputs": [
        {
          "output_type": "stream",
          "name": "stdout",
          "text": [
            "horse  bird plane  bird\n"
          ]
        },
        {
          "output_type": "display_data",
          "data": {
            "text/plain": [
              "<Figure size 640x480 with 1 Axes>"
            ],
            "image/png": "[encoded data removed]"
          },
          "metadata": {}
        }
      ],
      "source": [
        "# Examples of dataset\n",
        "\n",
        "def imshow(img):\n",
        "  img = img /2 + 0.5\n",
        "\n",
        "  npimg = img.numpy()\n",
        "  plt.imshow(np.transpose(npimg, (1, 2, 0)))\n",
        "\n",
        "dataiter = iter(trainloader)\n",
        "imgs, labels = next(dataiter)\n",
        "\n",
        "imshow(torchvision.utils.make_grid(imgs))\n",
        "print(' '.join('%5s' % classes[labels[j]] for j in range(4)))\n"
      ]
    },
    {
      "cell_type": "markdown",
      "source": [
        "# **Your own CNN**\n",
        "\n",
        "You can implement your own network using libraries such as `torch.nn`and `torch.nn.functional`.\n",
        "\n",
        "`SimpleNet` and `VGG11` are examples to help your understand the implementation of the network.\n",
        "\n",
        "So, you can modify the given codes or create another awesome neural network for CIFAR-10 classification."
      ],
      "metadata": {
        "id": "Y77itjthc5Xh"
      }
    },
    {
      "cell_type": "code",
      "execution_count": null,
      "metadata": {
        "id": "068wqyqdo_fc"
      },
      "outputs": [],
      "source": [
        "# Model\n",
        "\n",
        "class SimpleNet(nn.Module):\n",
        "    def __init__(self):\n",
        "        super(SimpleNet, self).__init__()\n",
        "        self.conv1 = nn.Conv2d(3, 6, 5) #(input channel, output channel, kernel_size, stride, padding)\n",
        "        self.pool = nn.MaxPool2d(2, 2)\n",
        "        self.conv2 = nn.Conv2d(6, 16, 5)\n",
        "        self.fc1 = nn.Linear(16 * 5 * 5, 120)\n",
        "        self.fc2 = nn.Linear(120, 84)\n",
        "        self.fc3 = nn.Linear(84, 10) #마지막은 무조건 10으로 끝나게 해야 함.\n",
        "\n",
        "    def forward(self, x):\n",
        "      # CNN layer이다.\n",
        "        x = self.pool(F.relu(self.conv1(x)))\n",
        "        x = self.pool(F.relu(self.conv2(x)))\n",
        "\n",
        "        # FCN layer이다.\n",
        "        x = x.view(-1, 16 * 5 * 5)\n",
        "        x = F.relu(self.fc1(x))\n",
        "        x = F.relu(self.fc2(x))\n",
        "        x = self.fc3(x)\n",
        "        return x\n",
        "\n",
        "\n",
        "net = SimpleNet().to(device)"
      ]
    },
    {
      "cell_type": "code",
      "source": [
        "!pip install torchsummary\n",
        "from torchsummary import summary\n",
        "\n",
        "summary(net, (3, 32, 32))"
      ],
      "metadata": {
        "colab": {
          "base_uri": "https://localhost:8080/"
        },
        "id": "QjHRVmAYDEmE",
        "outputId": "ab534a79-d972-4f77-b436-e8687b1f5772"
      },
      "execution_count": null,
      "outputs": [
        {
          "output_type": "stream",
          "name": "stdout",
          "text": [
            "Requirement already satisfied: torchsummary in /usr/local/lib/python3.10/dist-packages (1.5.1)\n",
            "----------------------------------------------------------------\n",
            "        Layer (type)               Output Shape         Param #\n",
            "================================================================\n",
            "            Conv2d-1            [-1, 6, 28, 28]             456\n",
            "         MaxPool2d-2            [-1, 6, 14, 14]               0\n",
            "            Conv2d-3           [-1, 16, 10, 10]           2,416\n",
            "         MaxPool2d-4             [-1, 16, 5, 5]               0\n",
            "            Linear-5                  [-1, 120]          48,120\n",
            "            Linear-6                   [-1, 84]          10,164\n",
            "            Linear-7                   [-1, 10]             850\n",
            "================================================================\n",
            "Total params: 62,006\n",
            "Trainable params: 62,006\n",
            "Non-trainable params: 0\n",
            "----------------------------------------------------------------\n",
            "Input size (MB): 0.01\n",
            "Forward/backward pass size (MB): 0.06\n",
            "Params size (MB): 0.24\n",
            "Estimated Total Size (MB): 0.31\n",
            "----------------------------------------------------------------\n"
          ]
        }
      ]
    },
    {
      "cell_type": "markdown",
      "source": [
        "# **Loss function and optimizer**\n",
        "\n",
        "Set the **loss function and optimizer** for training CNN.\n",
        "You can modify the loss function or optimizer for better performance."
      ],
      "metadata": {
        "id": "SXLnGlLgdyZ2"
      }
    },
    {
      "cell_type": "code",
      "execution_count": null,
      "metadata": {
        "id": "oB0f6C2npeoj"
      },
      "outputs": [],
      "source": [
        "# Loss function and optimizer\n",
        "criterion = nn.CrossEntropyLoss()\n",
        "optimizer = torch.optim.Adam(net.parameters(), lr=0.001)\n",
        "scheduler = torch.optim.lr_scheduler.StepLR(optimizer, step_size=10, gamma=0.1) # Learning rate scheduling하는 거임. 이건 걍 step에 따라..."
      ]
    },
    {
      "cell_type": "markdown",
      "source": [
        "# **Train the network**\n",
        "\n",
        "Train your own network using the above loss function and optimizer."
      ],
      "metadata": {
        "id": "DInMRCnReWno"
      }
    },
    {
      "cell_type": "code",
      "execution_count": null,
      "metadata": {
        "colab": {
          "base_uri": "https://localhost:8080/",
          "height": 1000
        },
        "id": "2vvD0eNCpqxj",
        "outputId": "ec8648fb-bc65-44ad-c5c3-032674fdd4f2"
      },
      "outputs": [
        {
          "output_type": "stream",
          "name": "stdout",
          "text": [
            "[Epoch - 1, Iteration -  5000] Loss: 1.707\n",
            "[Epoch - 1, Iteration - 10000] Loss: 0.729\n",
            "[Epoch - 1] Train Loss: 1.582, Val Loss: 1.423\n",
            "[Epoch - 2, Iteration -  5000] Loss: 1.342\n",
            "[Epoch - 2, Iteration - 10000] Loss: 0.651\n",
            "[Epoch - 2] Train Loss: 1.322, Val Loss: 1.285\n",
            "[Epoch - 3, Iteration -  5000] Loss: 1.221\n",
            "[Epoch - 3, Iteration - 10000] Loss: 0.596\n",
            "[Epoch - 3] Train Loss: 1.207, Val Loss: 1.313\n",
            "[Epoch - 4, Iteration -  5000] Loss: 1.123\n",
            "[Epoch - 4, Iteration - 10000] Loss: 0.572\n",
            "[Epoch - 4] Train Loss: 1.133, Val Loss: 1.157\n",
            "[Epoch - 5, Iteration -  5000] Loss: 1.050\n",
            "[Epoch - 5, Iteration - 10000] Loss: 0.538\n",
            "[Epoch - 5] Train Loss: 1.063, Val Loss: 1.124\n",
            "[Epoch - 6, Iteration -  5000] Loss: 1.011\n",
            "[Epoch - 6, Iteration - 10000] Loss: 0.513\n",
            "[Epoch - 6] Train Loss: 1.019, Val Loss: 1.185\n",
            "[Epoch - 7, Iteration -  5000] Loss: 0.970\n",
            "[Epoch - 7, Iteration - 10000] Loss: 0.494\n",
            "[Epoch - 7] Train Loss: 0.980, Val Loss: 1.147\n",
            "[Epoch - 8, Iteration -  5000] Loss: 0.928\n",
            "[Epoch - 8, Iteration - 10000] Loss: 0.487\n",
            "[Epoch - 8] Train Loss: 0.951, Val Loss: 1.129\n",
            "[Epoch - 9, Iteration -  5000] Loss: 0.896\n",
            "[Epoch - 9, Iteration - 10000] Loss: 0.468\n",
            "[Epoch - 9] Train Loss: 0.915, Val Loss: 1.164\n",
            "[Epoch - 10, Iteration -  5000] Loss: 0.869\n",
            "[Epoch - 10, Iteration - 10000] Loss: 0.461\n",
            "[Epoch - 10] Train Loss: 0.896, Val Loss: 1.163\n",
            "[Epoch - 11, Iteration -  5000] Loss: 0.708\n",
            "[Epoch - 11, Iteration - 10000] Loss: 0.342\n",
            "[Epoch - 11] Train Loss: 0.696, Val Loss: 1.153\n",
            "[Epoch - 12, Iteration -  5000] Loss: 0.648\n",
            "[Epoch - 12, Iteration - 10000] Loss: 0.323\n",
            "[Epoch - 12] Train Loss: 0.647, Val Loss: 1.161\n",
            "[Epoch - 13, Iteration -  5000] Loss: 0.615\n",
            "[Epoch - 13, Iteration - 10000] Loss: 0.314\n",
            "[Epoch - 13] Train Loss: 0.621, Val Loss: 1.180\n",
            "[Epoch - 14, Iteration -  5000] Loss: 0.596\n",
            "[Epoch - 14, Iteration - 10000] Loss: 0.303\n",
            "[Epoch - 14] Train Loss: 0.601, Val Loss: 1.205\n",
            "[Epoch - 15, Iteration -  5000] Loss: 0.577\n",
            "[Epoch - 15, Iteration - 10000] Loss: 0.294\n",
            "[Epoch - 15] Train Loss: 0.583, Val Loss: 1.221\n",
            "[Epoch - 16, Iteration -  5000] Loss: 0.564\n",
            "[Epoch - 16, Iteration - 10000] Loss: 0.285\n",
            "[Epoch - 16] Train Loss: 0.567, Val Loss: 1.236\n",
            "[Epoch - 17, Iteration -  5000] Loss: 0.538\n",
            "[Epoch - 17, Iteration - 10000] Loss: 0.283\n",
            "[Epoch - 17] Train Loss: 0.553, Val Loss: 1.264\n",
            "[Epoch - 18, Iteration -  5000] Loss: 0.541\n",
            "[Epoch - 18, Iteration - 10000] Loss: 0.268\n",
            "[Epoch - 18] Train Loss: 0.539, Val Loss: 1.308\n",
            "[Epoch - 19, Iteration -  5000] Loss: 0.519\n",
            "[Epoch - 19, Iteration - 10000] Loss: 0.266\n",
            "[Epoch - 19] Train Loss: 0.525, Val Loss: 1.319\n",
            "[Epoch - 20, Iteration -  5000] Loss: 0.511\n",
            "[Epoch - 20, Iteration - 10000] Loss: 0.258\n",
            "[Epoch - 20] Train Loss: 0.513, Val Loss: 1.340\n",
            "[Epoch - 21, Iteration -  5000] Loss: 0.479\n",
            "[Epoch - 21, Iteration - 10000] Loss: 0.238\n",
            "[Epoch - 21] Train Loss: 0.478, Val Loss: 1.353\n",
            "[Epoch - 22, Iteration -  5000] Loss: 0.472\n",
            "[Epoch - 22, Iteration - 10000] Loss: 0.238\n",
            "[Epoch - 22] Train Loss: 0.474, Val Loss: 1.363\n",
            "[Epoch - 23, Iteration -  5000] Loss: 0.475\n",
            "[Epoch - 23, Iteration - 10000] Loss: 0.234\n",
            "[Epoch - 23] Train Loss: 0.471, Val Loss: 1.366\n",
            "[Epoch - 24, Iteration -  5000] Loss: 0.468\n",
            "[Epoch - 24, Iteration - 10000] Loss: 0.236\n",
            "[Epoch - 24] Train Loss: 0.470, Val Loss: 1.372\n",
            "[Epoch - 25, Iteration -  5000] Loss: 0.468\n",
            "[Epoch - 25, Iteration - 10000] Loss: 0.234\n",
            "[Epoch - 25] Train Loss: 0.468, Val Loss: 1.379\n",
            "[Epoch - 26, Iteration -  5000] Loss: 0.466\n",
            "[Epoch - 26, Iteration - 10000] Loss: 0.233\n",
            "[Epoch - 26] Train Loss: 0.466, Val Loss: 1.382\n",
            "[Epoch - 27, Iteration -  5000] Loss: 0.469\n",
            "[Epoch - 27, Iteration - 10000] Loss: 0.230\n",
            "[Epoch - 27] Train Loss: 0.465, Val Loss: 1.387\n",
            "[Epoch - 28, Iteration -  5000] Loss: 0.467\n",
            "[Epoch - 28, Iteration - 10000] Loss: 0.230\n",
            "[Epoch - 28] Train Loss: 0.463, Val Loss: 1.394\n",
            "[Epoch - 29, Iteration -  5000] Loss: 0.455\n",
            "[Epoch - 29, Iteration - 10000] Loss: 0.234\n",
            "[Epoch - 29] Train Loss: 0.461, Val Loss: 1.392\n",
            "[Epoch - 30, Iteration -  5000] Loss: 0.465\n",
            "[Epoch - 30, Iteration - 10000] Loss: 0.227\n",
            "[Epoch - 30] Train Loss: 0.460, Val Loss: 1.399\n",
            "[Epoch - 31, Iteration -  5000] Loss: 0.452\n",
            "[Epoch - 31, Iteration - 10000] Loss: 0.229\n",
            "[Epoch - 31] Train Loss: 0.456, Val Loss: 1.400\n",
            "[Epoch - 32, Iteration -  5000] Loss: 0.460\n",
            "[Epoch - 32, Iteration - 10000] Loss: 0.225\n",
            "[Epoch - 32] Train Loss: 0.455, Val Loss: 1.401\n",
            "[Epoch - 33, Iteration -  5000] Loss: 0.458\n",
            "[Epoch - 33, Iteration - 10000] Loss: 0.226\n",
            "[Epoch - 33] Train Loss: 0.455, Val Loss: 1.402\n",
            "[Epoch - 34, Iteration -  5000] Loss: 0.455\n",
            "[Epoch - 34, Iteration - 10000] Loss: 0.227\n",
            "[Epoch - 34] Train Loss: 0.455, Val Loss: 1.402\n",
            "[Epoch - 35, Iteration -  5000] Loss: 0.451\n",
            "[Epoch - 35, Iteration - 10000] Loss: 0.229\n",
            "[Epoch - 35] Train Loss: 0.455, Val Loss: 1.403\n",
            "[Epoch - 36, Iteration -  5000] Loss: 0.452\n",
            "[Epoch - 36, Iteration - 10000] Loss: 0.228\n",
            "[Epoch - 36] Train Loss: 0.455, Val Loss: 1.403\n",
            "[Epoch - 37, Iteration -  5000] Loss: 0.455\n",
            "[Epoch - 37, Iteration - 10000] Loss: 0.227\n",
            "[Epoch - 37] Train Loss: 0.454, Val Loss: 1.404\n",
            "[Epoch - 38, Iteration -  5000] Loss: 0.455\n",
            "[Epoch - 38, Iteration - 10000] Loss: 0.227\n",
            "[Epoch - 38] Train Loss: 0.454, Val Loss: 1.404\n",
            "[Epoch - 39, Iteration -  5000] Loss: 0.450\n",
            "[Epoch - 39, Iteration - 10000] Loss: 0.229\n",
            "[Epoch - 39] Train Loss: 0.454, Val Loss: 1.404\n",
            "[Epoch - 40, Iteration -  5000] Loss: 0.458\n",
            "[Epoch - 40, Iteration - 10000] Loss: 0.225\n",
            "[Epoch - 40] Train Loss: 0.454, Val Loss: 1.406\n",
            "[Epoch - 41, Iteration -  5000] Loss: 0.457\n",
            "[Epoch - 41, Iteration - 10000] Loss: 0.225\n",
            "[Epoch - 41] Train Loss: 0.453, Val Loss: 1.406\n",
            "[Epoch - 42, Iteration -  5000] Loss: 0.454\n",
            "[Epoch - 42, Iteration - 10000] Loss: 0.227\n",
            "[Epoch - 42] Train Loss: 0.453, Val Loss: 1.405\n",
            "[Epoch - 43, Iteration -  5000] Loss: 0.457\n",
            "[Epoch - 43, Iteration - 10000] Loss: 0.225\n",
            "[Epoch - 43] Train Loss: 0.453, Val Loss: 1.405\n",
            "[Epoch - 44, Iteration -  5000] Loss: 0.454\n",
            "[Epoch - 44, Iteration - 10000] Loss: 0.226\n",
            "[Epoch - 44] Train Loss: 0.453, Val Loss: 1.405\n",
            "[Epoch - 45, Iteration -  5000] Loss: 0.457\n",
            "[Epoch - 45, Iteration - 10000] Loss: 0.225\n",
            "[Epoch - 45] Train Loss: 0.453, Val Loss: 1.405\n",
            "[Epoch - 46, Iteration -  5000] Loss: 0.446\n",
            "[Epoch - 46, Iteration - 10000] Loss: 0.230\n",
            "[Epoch - 46] Train Loss: 0.453, Val Loss: 1.405\n",
            "[Epoch - 47, Iteration -  5000] Loss: 0.458\n",
            "[Epoch - 47, Iteration - 10000] Loss: 0.224\n",
            "[Epoch - 47] Train Loss: 0.453, Val Loss: 1.405\n",
            "[Epoch - 48, Iteration -  5000] Loss: 0.451\n",
            "[Epoch - 48, Iteration - 10000] Loss: 0.228\n",
            "[Epoch - 48] Train Loss: 0.453, Val Loss: 1.405\n",
            "[Epoch - 49, Iteration -  5000] Loss: 0.457\n",
            "[Epoch - 49, Iteration - 10000] Loss: 0.225\n",
            "[Epoch - 49] Train Loss: 0.453, Val Loss: 1.405\n",
            "[Epoch - 50, Iteration -  5000] Loss: 0.450\n",
            "[Epoch - 50, Iteration - 10000] Loss: 0.228\n",
            "[Epoch - 50] Train Loss: 0.453, Val Loss: 1.405\n",
            "Finished Training\n"
          ]
        },
        {
          "output_type": "display_data",
          "data": {
            "text/plain": [
              "<Figure size 1000x500 with 1 Axes>"
            ],
            "image/png": "[encoded data removed]"
          },
          "metadata": {}
        }
      ],
      "source": [
        "import matplotlib.pyplot as plt\n",
        "\n",
        "# Set the number of epochs\n",
        "epochs = 50\n",
        "\n",
        "# Arrays to store training and validation losses\n",
        "train_losses = []\n",
        "val_losses = []\n",
        "\n",
        "for epoch in range(epochs):\n",
        "    # Training phase\n",
        "    loss_tmp = 0.0\n",
        "    epoch_loss = 0.0\n",
        "    net.train()  # Set the model to training mode\n",
        "    for i, data in enumerate(trainloader, start=0):\n",
        "        # Load the data\n",
        "        inputs, labels = data\n",
        "        inputs = inputs.to(device)\n",
        "        labels = labels.to(device)\n",
        "\n",
        "        # Estimate the output using the network\n",
        "        outputs = net(inputs)\n",
        "\n",
        "        # Calculate the loss between the output of the network and label\n",
        "        loss = criterion(outputs, labels)\n",
        "\n",
        "        # Optimize the network\n",
        "        optimizer.zero_grad()\n",
        "        loss.backward()\n",
        "        optimizer.step()\n",
        "\n",
        "        loss_tmp += loss.item()\n",
        "        epoch_loss += loss.item()\n",
        "\n",
        "        if i % 5000 == 4999:  # Print loss every 5000 mini-batches\n",
        "            print('[Epoch - %d, Iteration - %5d] Loss: %.3f' %\n",
        "                  (epoch + 1, i + 1, loss_tmp / (i + 1)))\n",
        "            loss_tmp = 0.0\n",
        "\n",
        "    # Calculate the average training loss for the epoch\n",
        "    avg_train_loss = epoch_loss / (i + 1)\n",
        "    train_losses.append(avg_train_loss)\n",
        "\n",
        "    # Validation phase\n",
        "    val_loss = 0.0\n",
        "    net.eval()  # Set the model to evaluation mode\n",
        "    with torch.no_grad():\n",
        "        for data in valloader:\n",
        "            inputs, labels = data\n",
        "            inputs = inputs.to(device)\n",
        "            labels = labels.to(device)\n",
        "\n",
        "            outputs = net(inputs)\n",
        "            loss = criterion(outputs, labels)\n",
        "            val_loss += loss.item()\n",
        "\n",
        "    avg_val_loss = val_loss / len(valloader)\n",
        "    val_losses.append(avg_val_loss)\n",
        "\n",
        "    # Update the learning rate according to the learning rate scheduler\n",
        "    scheduler.step()\n",
        "\n",
        "    # Print the epoch loss\n",
        "    print('[Epoch - %d] Train Loss: %.3f, Val Loss: %.3f' % (epoch + 1, avg_train_loss, avg_val_loss))\n",
        "\n",
        "print('Finished Training')\n",
        "\n",
        "# Plotting training and validation loss\n",
        "plt.figure(figsize=(10, 5))\n",
        "plt.plot(range(1, epochs + 1), train_losses, label='Training Loss')\n",
        "plt.plot(range(1, epochs + 1), val_losses, label='Validation Loss')\n",
        "plt.xlabel('Epoch')\n",
        "plt.ylabel('Loss')\n",
        "plt.title('Training and Validation Loss')\n",
        "plt.legend()\n",
        "plt.show()\n"
      ]
    },
    {
      "cell_type": "markdown",
      "source": [
        "# **Test the network**\n",
        "\n",
        "Test the trained network using the testset.\n",
        "\n",
        "Accuracy of the network on the 10,000 test images is the final accuracy of your network.\n",
        "\n",
        "The closer the accuray is to 100%, the better the network classifies the input image."
      ],
      "metadata": {
        "id": "CgDA6_LlfNhE"
      }
    },
    {
      "cell_type": "code",
      "execution_count": null,
      "metadata": {
        "colab": {
          "base_uri": "https://localhost:8080/",
          "height": 229
        },
        "id": "fNfptwqLqpdA",
        "outputId": "3074f455-1229-4b4c-b7c9-efc9c939b452"
      },
      "outputs": [
        {
          "output_type": "stream",
          "name": "stdout",
          "text": [
            "GroundTruth:    cat  ship  ship plane\n",
            "Predicted:    cat  ship   car  ship\n"
          ]
        },
        {
          "output_type": "display_data",
          "data": {
            "text/plain": [
              "<Figure size 640x480 with 1 Axes>"
            ],
            "image/png": "[encoded data removed]"
          },
          "metadata": {}
        }
      ],
      "source": [
        "# Test the trained model with sample\n",
        "\n",
        "dataiter_test = iter(testloader)\n",
        "img_test, labels_test = next(dataiter_test)\n",
        "\n",
        "imshow(torchvision.utils.make_grid(img_test))\n",
        "print('GroundTruth: ', ' '.join('%5s' % classes[labels_test[j]] for j in range(4)))\n",
        "\n",
        "img_test = img_test.to(device)\n",
        "labels_test = labels_test.to(device)\n",
        "\n",
        "# Prediction\n",
        "outputs_test = net(img_test)\n",
        "_, predicted = torch.max(outputs_test.data, 1)\n",
        "print('Predicted: ', ' '.join('%5s' % classes[predicted[j]] for j in range(4)))"
      ]
    },
    {
      "cell_type": "code",
      "execution_count": null,
      "metadata": {
        "colab": {
          "base_uri": "https://localhost:8080/"
        },
        "id": "DNrXRT1NrJft",
        "outputId": "98586e69-29d7-4931-d7cd-d06c4b061aa3"
      },
      "outputs": [
        {
          "output_type": "stream",
          "name": "stdout",
          "text": [
            "Accuracy of the network on the 10,000 test images: 62 %\n"
          ]
        }
      ],
      "source": [
        "# Test the trained model with overall test dataset\n",
        "\n",
        "correct = 0\n",
        "total = 0\n",
        "for data in testloader:\n",
        "    # Load the data\n",
        "    inputs_test, labels_test = data\n",
        "    inputs_test = inputs_test.to(device)\n",
        "    labels_test = labels_test.to(device)\n",
        "\n",
        "    # Estimate the output using the trained network\n",
        "    outputs_test = net(inputs_test)\n",
        "    _, predicted = torch.max(outputs_test.data, 1)\n",
        "\n",
        "    # Calculate the accuracy\n",
        "    total += labels_test.size(0)\n",
        "    correct += (predicted == labels_test).sum()\n",
        "\n",
        "# Final accuracy\n",
        "print('Accuracy of the network on the 10,000 test images: %d %%' % (100 * correct / total))\n"
      ]
    },
    {
      "cell_type": "code",
      "source": [],
      "metadata": {
        "id": "zmTKB2vLqQwy"
      },
      "execution_count": null,
      "outputs": []
    }
  ],
  "metadata": {
    "colab": {
      "provenance": [],
      "gpuType": "T4"
    },
    "gpuClass": "standard",
    "kernelspec": {
      "display_name": "Python 3",
      "name": "python3"
    },
    "language_info": {
      "name": "python"
    },
    "accelerator": "GPU"
  },
  "nbformat": 4,
  "nbformat_minor": 0
}